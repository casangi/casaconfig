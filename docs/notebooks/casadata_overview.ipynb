{
  "nbformat": 4,
  "nbformat_minor": 0,
  "metadata": {
    "colab": {
      "name": "casadata_overview.ipynb",
      "provenance": [],
      "collapsed_sections": [],
      "toc_visible": true
    },
    "kernelspec": {
      "name": "python3",
      "display_name": "Python 3"
    },
    "language_info": {
      "name": "python"
    }
  },
  "cells": [
    {
      "cell_type": "code",
      "metadata": {
        "id": "UZ7yVfPGyrqL"
      },
      "source": [
        "# Installation\n",
        "!pip install --extra-index-url https://test.pypi.org/simple/ casadata==0.0.1rc9  > /dev/null"
      ],
      "execution_count": 1,
      "outputs": []
    },
    {
      "cell_type": "markdown",
      "metadata": {
        "id": "fzywh_sbi2Td"
      },
      "source": [
        "# Measures Data"
      ]
    },
    {
      "cell_type": "markdown",
      "metadata": {
        "id": "jCMl_XZxAWAO"
      },
      "source": [
        "---\n",
        "\n",
        "Inspect available versions of measures data and retrieve one"
      ]
    },
    {
      "cell_type": "code",
      "metadata": {
        "colab": {
          "base_uri": "https://localhost:8080/"
        },
        "id": "DRbnGVH7-JYU",
        "outputId": "2d288634-a2fa-46c7-c5c6-3839aa8c9205"
      },
      "source": [
        "import casadata\n",
        "\n",
        "versions = casadata.measures_available()\n",
        "\n",
        "print(versions[-5:])"
      ],
      "execution_count": 2,
      "outputs": [
        {
          "output_type": "stream",
          "text": [
            "['20210715-160002', '20210716-160001', '20210717-160001', '20210718-160001', '20210719-160001']\n"
          ],
          "name": "stdout"
        }
      ]
    },
    {
      "cell_type": "code",
      "metadata": {
        "colab": {
          "base_uri": "https://localhost:8080/"
        },
        "id": "z9UpTDJVAdWL",
        "outputId": "8844c7ac-f3c7-4384-9869-a1bc41be97e0"
      },
      "source": [
        "casadata.measures_update('data', version=versions[-1])"
      ],
      "execution_count": 3,
      "outputs": [
        {
          "output_type": "stream",
          "text": [
            "connecting to ftp.astron.nl ...\n",
            "downloading data from ASTRON server ...\n"
          ],
          "name": "stdout"
        }
      ]
    },
    {
      "cell_type": "code",
      "metadata": {
        "colab": {
          "base_uri": "https://localhost:8080/"
        },
        "id": "_nOlTA4sAp4A",
        "outputId": "bde1f0ff-64d9-4e96-b8a5-8f1f4494a969"
      },
      "source": [
        "!ls data/geodetic/"
      ],
      "execution_count": 4,
      "outputs": [
        {
          "output_type": "stream",
          "text": [
            "IERSeop2000  IERSpredict2000\t  IGRF\t    Observatories    TAI_UTC.old\n",
            "IERSeop97    IERSpredict2000.old  IMF\t    SCHED_locations\n",
            "IERSpredict  IERSpredict.old\t  KpApF107  TAI_UTC\n"
          ],
          "name": "stdout"
        }
      ]
    },
    {
      "cell_type": "markdown",
      "metadata": {
        "id": "Ls_1PIDWA0XI"
      },
      "source": [
        "Set the path to the downloaded measures data so casacore can find it"
      ]
    },
    {
      "cell_type": "code",
      "metadata": {
        "id": "CsVmR9UiAx5I"
      },
      "source": [
        "casadata.set_data_dir('data')"
      ],
      "execution_count": 5,
      "outputs": []
    },
    {
      "cell_type": "code",
      "metadata": {
        "colab": {
          "base_uri": "https://localhost:8080/"
        },
        "id": "tezv3q-5jiNY",
        "outputId": "e1788919-0888-4e84-922a-2091793423e2"
      },
      "source": [
        "!more /root/.casarc"
      ],
      "execution_count": 6,
      "outputs": [
        {
          "output_type": "stream",
          "text": [
            "measures.observatory.directory: /content/data/geodetic\n"
          ],
          "name": "stdout"
        }
      ]
    },
    {
      "cell_type": "markdown",
      "metadata": {
        "id": "mfhpDVnziU3Z"
      },
      "source": [
        "Try using casacore to verify it got the data"
      ]
    },
    {
      "cell_type": "code",
      "metadata": {
        "colab": {
          "base_uri": "https://localhost:8080/"
        },
        "id": "ZyNzWNKbBk2r",
        "outputId": "dd8b5f03-d029-40b9-9d5c-32f05878e178"
      },
      "source": [
        "from casacore.measures import measures\n",
        "measures().observatory('ALMA')"
      ],
      "execution_count": 7,
      "outputs": [
        {
          "output_type": "execute_result",
          "data": {
            "text/plain": [
              "{'m0': {'unit': 'rad', 'value': -1.1825465955049892},\n",
              " 'm1': {'unit': 'rad', 'value': -0.4018251640113072},\n",
              " 'm2': {'unit': 'm', 'value': 5056.8},\n",
              " 'refer': 'WGS84',\n",
              " 'type': 'position'}"
            ]
          },
          "metadata": {
            "tags": []
          },
          "execution_count": 7
        }
      ]
    },
    {
      "cell_type": "markdown",
      "metadata": {
        "id": "ibZQWT84jXq-"
      },
      "source": [
        "Open and inspect the measures data contents"
      ]
    },
    {
      "cell_type": "code",
      "metadata": {
        "id": "ubnT93t9rcBe"
      },
      "source": [
        ""
      ],
      "execution_count": 7,
      "outputs": []
    }
  ]
}