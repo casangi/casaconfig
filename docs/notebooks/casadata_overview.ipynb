{
  "nbformat": 4,
  "nbformat_minor": 0,
  "metadata": {
    "colab": {
      "name": "casadata_overview.ipynb",
      "provenance": [],
      "collapsed_sections": [],
      "authorship_tag": "ABX9TyOxDHNeJPDRhXA3ndpHiRyd"
    },
    "kernelspec": {
      "name": "python3",
      "display_name": "Python 3"
    },
    "language_info": {
      "name": "python"
    }
  },
  "cells": [
    {
      "cell_type": "code",
      "metadata": {
        "id": "UZ7yVfPGyrqL"
      },
      "source": [
        "# Installation\n",
        "!pip install --extra-index-url https://test.pypi.org/simple/ casadata==0.0.1rc13  > /dev/null"
      ],
      "execution_count": 1,
      "outputs": []
    },
    {
      "cell_type": "markdown",
      "metadata": {
        "id": "fzywh_sbi2Td"
      },
      "source": [
        "# Measures Data"
      ]
    },
    {
      "cell_type": "markdown",
      "metadata": {
        "id": "jCMl_XZxAWAO"
      },
      "source": [
        "---\n",
        "\n",
        "Inspect available versions of measures data and retrieve one"
      ]
    },
    {
      "cell_type": "code",
      "metadata": {
        "colab": {
          "base_uri": "https://localhost:8080/"
        },
        "id": "DRbnGVH7-JYU",
        "outputId": "77ff1185-d589-41d5-bc6c-543a7d3c5a24"
      },
      "source": [
        "import casadata\n",
        "\n",
        "versions = casadata.measures_available()\n",
        "\n",
        "print(versions[-5:])"
      ],
      "execution_count": 2,
      "outputs": [
        {
          "output_type": "stream",
          "text": [
            "['20210731-160001', '20210801-160001', '20210802-160001', '20210803-160001', '20210804-160001']\n"
          ],
          "name": "stdout"
        }
      ]
    },
    {
      "cell_type": "code",
      "metadata": {
        "colab": {
          "base_uri": "https://localhost:8080/"
        },
        "id": "z9UpTDJVAdWL",
        "outputId": "3dee0547-d462-47be-9285-1b1677d076c1"
      },
      "source": [
        "casadata.measures_update('data', version=versions[-1])"
      ],
      "execution_count": 3,
      "outputs": [
        {
          "output_type": "stream",
          "text": [
            "connecting to ftp.astron.nl ...\n",
            "downloading data from ASTRON server ...\n"
          ],
          "name": "stdout"
        }
      ]
    },
    {
      "cell_type": "code",
      "metadata": {
        "colab": {
          "base_uri": "https://localhost:8080/"
        },
        "id": "_nOlTA4sAp4A",
        "outputId": "601f29a8-d362-4b2e-db2b-c68f703d93e5"
      },
      "source": [
        "!ls data/geodetic"
      ],
      "execution_count": 4,
      "outputs": [
        {
          "output_type": "stream",
          "text": [
            "IERSeop2000  IERSpredict      IGRF  KpApF107\t   SCHED_locations\n",
            "IERSeop97    IERSpredict2000  IMF   Observatories  TAI_UTC\n"
          ],
          "name": "stdout"
        }
      ]
    },
    {
      "cell_type": "markdown",
      "metadata": {
        "id": "Ls_1PIDWA0XI"
      },
      "source": [
        "Set the path to the downloaded measures data so casacore can find it"
      ]
    },
    {
      "cell_type": "code",
      "metadata": {
        "colab": {
          "base_uri": "https://localhost:8080/"
        },
        "id": "CsVmR9UiAx5I",
        "outputId": "498375d5-2b8b-49ee-bbfd-0942be3a2644"
      },
      "source": [
        "casadata.set_data_dir('data')"
      ],
      "execution_count": 5,
      "outputs": [
        {
          "output_type": "stream",
          "text": [
            "writing /root/.casarc...\n"
          ],
          "name": "stdout"
        }
      ]
    },
    {
      "cell_type": "code",
      "metadata": {
        "colab": {
          "base_uri": "https://localhost:8080/"
        },
        "id": "tezv3q-5jiNY",
        "outputId": "3cf27cc9-1c98-411a-db06-ffd6dc543ad4"
      },
      "source": [
        "!more /root/.casarc"
      ],
      "execution_count": 6,
      "outputs": [
        {
          "output_type": "stream",
          "text": [
            "measures.directory: /content/data\n"
          ],
          "name": "stdout"
        }
      ]
    },
    {
      "cell_type": "markdown",
      "metadata": {
        "id": "mfhpDVnziU3Z"
      },
      "source": [
        "Try using casacore to verify it got the data"
      ]
    },
    {
      "cell_type": "code",
      "metadata": {
        "colab": {
          "base_uri": "https://localhost:8080/"
        },
        "id": "ZyNzWNKbBk2r",
        "outputId": "00bb6221-0462-4a57-b045-6a97f7369436"
      },
      "source": [
        "from casacore.measures import measures\n",
        "measures().observatory('ALMA')"
      ],
      "execution_count": 7,
      "outputs": [
        {
          "output_type": "execute_result",
          "data": {
            "text/plain": [
              "{'m0': {'unit': 'rad', 'value': -1.1825465955049892},\n",
              " 'm1': {'unit': 'rad', 'value': -0.4018251640113072},\n",
              " 'm2': {'unit': 'm', 'value': 5056.8},\n",
              " 'refer': 'WGS84',\n",
              " 'type': 'position'}"
            ]
          },
          "metadata": {
            "tags": []
          },
          "execution_count": 7
        }
      ]
    },
    {
      "cell_type": "markdown",
      "metadata": {
        "id": "ibZQWT84jXq-"
      },
      "source": [
        "Open and inspect the measures data contents"
      ]
    },
    {
      "cell_type": "code",
      "metadata": {
        "colab": {
          "base_uri": "https://localhost:8080/",
          "height": 772
        },
        "id": "ubnT93t9rcBe",
        "outputId": "57ba093a-99c4-490c-93b8-cffb8337db16"
      },
      "source": [
        "xds = casadata.table_open('data/geodetic/IERSpredict')\n",
        "\n",
        "xds"
      ],
      "execution_count": 8,
      "outputs": [
        {
          "output_type": "execute_result",
          "data": {
            "text/html": [
              "<div><svg style=\"position: absolute; width: 0; height: 0; overflow: hidden\">\n",
              "<defs>\n",
              "<symbol id=\"icon-database\" viewBox=\"0 0 32 32\">\n",
              "<path d=\"M16 0c-8.837 0-16 2.239-16 5v4c0 2.761 7.163 5 16 5s16-2.239 16-5v-4c0-2.761-7.163-5-16-5z\"></path>\n",
              "<path d=\"M16 17c-8.837 0-16-2.239-16-5v6c0 2.761 7.163 5 16 5s16-2.239 16-5v-6c0 2.761-7.163 5-16 5z\"></path>\n",
              "<path d=\"M16 26c-8.837 0-16-2.239-16-5v6c0 2.761 7.163 5 16 5s16-2.239 16-5v-6c0 2.761-7.163 5-16 5z\"></path>\n",
              "</symbol>\n",
              "<symbol id=\"icon-file-text2\" viewBox=\"0 0 32 32\">\n",
              "<path d=\"M28.681 7.159c-0.694-0.947-1.662-2.053-2.724-3.116s-2.169-2.030-3.116-2.724c-1.612-1.182-2.393-1.319-2.841-1.319h-15.5c-1.378 0-2.5 1.121-2.5 2.5v27c0 1.378 1.122 2.5 2.5 2.5h23c1.378 0 2.5-1.122 2.5-2.5v-19.5c0-0.448-0.137-1.23-1.319-2.841zM24.543 5.457c0.959 0.959 1.712 1.825 2.268 2.543h-4.811v-4.811c0.718 0.556 1.584 1.309 2.543 2.268zM28 29.5c0 0.271-0.229 0.5-0.5 0.5h-23c-0.271 0-0.5-0.229-0.5-0.5v-27c0-0.271 0.229-0.5 0.5-0.5 0 0 15.499-0 15.5 0v7c0 0.552 0.448 1 1 1h7v19.5z\"></path>\n",
              "<path d=\"M23 26h-14c-0.552 0-1-0.448-1-1s0.448-1 1-1h14c0.552 0 1 0.448 1 1s-0.448 1-1 1z\"></path>\n",
              "<path d=\"M23 22h-14c-0.552 0-1-0.448-1-1s0.448-1 1-1h14c0.552 0 1 0.448 1 1s-0.448 1-1 1z\"></path>\n",
              "<path d=\"M23 18h-14c-0.552 0-1-0.448-1-1s0.448-1 1-1h14c0.552 0 1 0.448 1 1s-0.448 1-1 1z\"></path>\n",
              "</symbol>\n",
              "</defs>\n",
              "</svg>\n",
              "<style>/* CSS stylesheet for displaying xarray objects in jupyterlab.\n",
              " *\n",
              " */\n",
              "\n",
              ":root {\n",
              "  --xr-font-color0: var(--jp-content-font-color0, rgba(0, 0, 0, 1));\n",
              "  --xr-font-color2: var(--jp-content-font-color2, rgba(0, 0, 0, 0.54));\n",
              "  --xr-font-color3: var(--jp-content-font-color3, rgba(0, 0, 0, 0.38));\n",
              "  --xr-border-color: var(--jp-border-color2, #e0e0e0);\n",
              "  --xr-disabled-color: var(--jp-layout-color3, #bdbdbd);\n",
              "  --xr-background-color: var(--jp-layout-color0, white);\n",
              "  --xr-background-color-row-even: var(--jp-layout-color1, white);\n",
              "  --xr-background-color-row-odd: var(--jp-layout-color2, #eeeeee);\n",
              "}\n",
              "\n",
              "html[theme=dark],\n",
              "body.vscode-dark {\n",
              "  --xr-font-color0: rgba(255, 255, 255, 1);\n",
              "  --xr-font-color2: rgba(255, 255, 255, 0.54);\n",
              "  --xr-font-color3: rgba(255, 255, 255, 0.38);\n",
              "  --xr-border-color: #1F1F1F;\n",
              "  --xr-disabled-color: #515151;\n",
              "  --xr-background-color: #111111;\n",
              "  --xr-background-color-row-even: #111111;\n",
              "  --xr-background-color-row-odd: #313131;\n",
              "}\n",
              "\n",
              ".xr-wrap {\n",
              "  display: block;\n",
              "  min-width: 300px;\n",
              "  max-width: 700px;\n",
              "}\n",
              "\n",
              ".xr-text-repr-fallback {\n",
              "  /* fallback to plain text repr when CSS is not injected (untrusted notebook) */\n",
              "  display: none;\n",
              "}\n",
              "\n",
              ".xr-header {\n",
              "  padding-top: 6px;\n",
              "  padding-bottom: 6px;\n",
              "  margin-bottom: 4px;\n",
              "  border-bottom: solid 1px var(--xr-border-color);\n",
              "}\n",
              "\n",
              ".xr-header > div,\n",
              ".xr-header > ul {\n",
              "  display: inline;\n",
              "  margin-top: 0;\n",
              "  margin-bottom: 0;\n",
              "}\n",
              "\n",
              ".xr-obj-type,\n",
              ".xr-array-name {\n",
              "  margin-left: 2px;\n",
              "  margin-right: 10px;\n",
              "}\n",
              "\n",
              ".xr-obj-type {\n",
              "  color: var(--xr-font-color2);\n",
              "}\n",
              "\n",
              ".xr-sections {\n",
              "  padding-left: 0 !important;\n",
              "  display: grid;\n",
              "  grid-template-columns: 150px auto auto 1fr 20px 20px;\n",
              "}\n",
              "\n",
              ".xr-section-item {\n",
              "  display: contents;\n",
              "}\n",
              "\n",
              ".xr-section-item input {\n",
              "  display: none;\n",
              "}\n",
              "\n",
              ".xr-section-item input + label {\n",
              "  color: var(--xr-disabled-color);\n",
              "}\n",
              "\n",
              ".xr-section-item input:enabled + label {\n",
              "  cursor: pointer;\n",
              "  color: var(--xr-font-color2);\n",
              "}\n",
              "\n",
              ".xr-section-item input:enabled + label:hover {\n",
              "  color: var(--xr-font-color0);\n",
              "}\n",
              "\n",
              ".xr-section-summary {\n",
              "  grid-column: 1;\n",
              "  color: var(--xr-font-color2);\n",
              "  font-weight: 500;\n",
              "}\n",
              "\n",
              ".xr-section-summary > span {\n",
              "  display: inline-block;\n",
              "  padding-left: 0.5em;\n",
              "}\n",
              "\n",
              ".xr-section-summary-in:disabled + label {\n",
              "  color: var(--xr-font-color2);\n",
              "}\n",
              "\n",
              ".xr-section-summary-in + label:before {\n",
              "  display: inline-block;\n",
              "  content: '►';\n",
              "  font-size: 11px;\n",
              "  width: 15px;\n",
              "  text-align: center;\n",
              "}\n",
              "\n",
              ".xr-section-summary-in:disabled + label:before {\n",
              "  color: var(--xr-disabled-color);\n",
              "}\n",
              "\n",
              ".xr-section-summary-in:checked + label:before {\n",
              "  content: '▼';\n",
              "}\n",
              "\n",
              ".xr-section-summary-in:checked + label > span {\n",
              "  display: none;\n",
              "}\n",
              "\n",
              ".xr-section-summary,\n",
              ".xr-section-inline-details {\n",
              "  padding-top: 4px;\n",
              "  padding-bottom: 4px;\n",
              "}\n",
              "\n",
              ".xr-section-inline-details {\n",
              "  grid-column: 2 / -1;\n",
              "}\n",
              "\n",
              ".xr-section-details {\n",
              "  display: none;\n",
              "  grid-column: 1 / -1;\n",
              "  margin-bottom: 5px;\n",
              "}\n",
              "\n",
              ".xr-section-summary-in:checked ~ .xr-section-details {\n",
              "  display: contents;\n",
              "}\n",
              "\n",
              ".xr-array-wrap {\n",
              "  grid-column: 1 / -1;\n",
              "  display: grid;\n",
              "  grid-template-columns: 20px auto;\n",
              "}\n",
              "\n",
              ".xr-array-wrap > label {\n",
              "  grid-column: 1;\n",
              "  vertical-align: top;\n",
              "}\n",
              "\n",
              ".xr-preview {\n",
              "  color: var(--xr-font-color3);\n",
              "}\n",
              "\n",
              ".xr-array-preview,\n",
              ".xr-array-data {\n",
              "  padding: 0 5px !important;\n",
              "  grid-column: 2;\n",
              "}\n",
              "\n",
              ".xr-array-data,\n",
              ".xr-array-in:checked ~ .xr-array-preview {\n",
              "  display: none;\n",
              "}\n",
              "\n",
              ".xr-array-in:checked ~ .xr-array-data,\n",
              ".xr-array-preview {\n",
              "  display: inline-block;\n",
              "}\n",
              "\n",
              ".xr-dim-list {\n",
              "  display: inline-block !important;\n",
              "  list-style: none;\n",
              "  padding: 0 !important;\n",
              "  margin: 0;\n",
              "}\n",
              "\n",
              ".xr-dim-list li {\n",
              "  display: inline-block;\n",
              "  padding: 0;\n",
              "  margin: 0;\n",
              "}\n",
              "\n",
              ".xr-dim-list:before {\n",
              "  content: '(';\n",
              "}\n",
              "\n",
              ".xr-dim-list:after {\n",
              "  content: ')';\n",
              "}\n",
              "\n",
              ".xr-dim-list li:not(:last-child):after {\n",
              "  content: ',';\n",
              "  padding-right: 5px;\n",
              "}\n",
              "\n",
              ".xr-has-index {\n",
              "  font-weight: bold;\n",
              "}\n",
              "\n",
              ".xr-var-list,\n",
              ".xr-var-item {\n",
              "  display: contents;\n",
              "}\n",
              "\n",
              ".xr-var-item > div,\n",
              ".xr-var-item label,\n",
              ".xr-var-item > .xr-var-name span {\n",
              "  background-color: var(--xr-background-color-row-even);\n",
              "  margin-bottom: 0;\n",
              "}\n",
              "\n",
              ".xr-var-item > .xr-var-name:hover span {\n",
              "  padding-right: 5px;\n",
              "}\n",
              "\n",
              ".xr-var-list > li:nth-child(odd) > div,\n",
              ".xr-var-list > li:nth-child(odd) > label,\n",
              ".xr-var-list > li:nth-child(odd) > .xr-var-name span {\n",
              "  background-color: var(--xr-background-color-row-odd);\n",
              "}\n",
              "\n",
              ".xr-var-name {\n",
              "  grid-column: 1;\n",
              "}\n",
              "\n",
              ".xr-var-dims {\n",
              "  grid-column: 2;\n",
              "}\n",
              "\n",
              ".xr-var-dtype {\n",
              "  grid-column: 3;\n",
              "  text-align: right;\n",
              "  color: var(--xr-font-color2);\n",
              "}\n",
              "\n",
              ".xr-var-preview {\n",
              "  grid-column: 4;\n",
              "}\n",
              "\n",
              ".xr-var-name,\n",
              ".xr-var-dims,\n",
              ".xr-var-dtype,\n",
              ".xr-preview,\n",
              ".xr-attrs dt {\n",
              "  white-space: nowrap;\n",
              "  overflow: hidden;\n",
              "  text-overflow: ellipsis;\n",
              "  padding-right: 10px;\n",
              "}\n",
              "\n",
              ".xr-var-name:hover,\n",
              ".xr-var-dims:hover,\n",
              ".xr-var-dtype:hover,\n",
              ".xr-attrs dt:hover {\n",
              "  overflow: visible;\n",
              "  width: auto;\n",
              "  z-index: 1;\n",
              "}\n",
              "\n",
              ".xr-var-attrs,\n",
              ".xr-var-data {\n",
              "  display: none;\n",
              "  background-color: var(--xr-background-color) !important;\n",
              "  padding-bottom: 5px !important;\n",
              "}\n",
              "\n",
              ".xr-var-attrs-in:checked ~ .xr-var-attrs,\n",
              ".xr-var-data-in:checked ~ .xr-var-data {\n",
              "  display: block;\n",
              "}\n",
              "\n",
              ".xr-var-data > table {\n",
              "  float: right;\n",
              "}\n",
              "\n",
              ".xr-var-name span,\n",
              ".xr-var-data,\n",
              ".xr-attrs {\n",
              "  padding-left: 25px !important;\n",
              "}\n",
              "\n",
              ".xr-attrs,\n",
              ".xr-var-attrs,\n",
              ".xr-var-data {\n",
              "  grid-column: 1 / -1;\n",
              "}\n",
              "\n",
              "dl.xr-attrs {\n",
              "  padding: 0;\n",
              "  margin: 0;\n",
              "  display: grid;\n",
              "  grid-template-columns: 125px auto;\n",
              "}\n",
              "\n",
              ".xr-attrs dt,\n",
              ".xr-attrs dd {\n",
              "  padding: 0;\n",
              "  margin: 0;\n",
              "  float: left;\n",
              "  padding-right: 10px;\n",
              "  width: auto;\n",
              "}\n",
              "\n",
              ".xr-attrs dt {\n",
              "  font-weight: normal;\n",
              "  grid-column: 1;\n",
              "}\n",
              "\n",
              ".xr-attrs dt:hover span {\n",
              "  display: inline-block;\n",
              "  background: var(--xr-background-color);\n",
              "  padding-right: 10px;\n",
              "}\n",
              "\n",
              ".xr-attrs dd {\n",
              "  grid-column: 2;\n",
              "  white-space: pre-wrap;\n",
              "  word-break: break-all;\n",
              "}\n",
              "\n",
              ".xr-icon-database,\n",
              ".xr-icon-file-text2 {\n",
              "  display: inline-block;\n",
              "  vertical-align: middle;\n",
              "  width: 1em;\n",
              "  height: 1.5em !important;\n",
              "  stroke-width: 0;\n",
              "  stroke: currentColor;\n",
              "  fill: currentColor;\n",
              "}\n",
              "</style><pre class='xr-text-repr-fallback'>&lt;xarray.Dataset&gt;\n",
              "Dimensions:  (d0: 722)\n",
              "Dimensions without coordinates: d0\n",
              "Data variables: (12/13)\n",
              "    MJD      (d0) float64 5.88e+04 5.88e+04 5.88e+04 ... 5.952e+04 5.952e+04\n",
              "    X        (d0) float64 0.1556 0.1544 0.1532 0.1521 ... 0.1742 0.1733 0.1718\n",
              "    DX       (d0) float64 1.9e-05 3e-05 3e-05 ... 0.007916 0.008175 0.007888\n",
              "    Y        (d0) float64 0.275 0.275 0.275 0.275 ... 0.2528 0.2528 0.251 0.2493\n",
              "    DY       (d0) float64 2.1e-05 2.4e-05 2.6e-05 ... 0.0106 0.01041 0.01058\n",
              "    DUT1     (d0) float64 -0.1629 -0.1634 -0.1639 ... -0.1266 -0.1274 -0.1279\n",
              "    ...       ...\n",
              "    LOD      (d0) float64 0.0005854 0.0004804 0.0003702 ... 0.0 0.0 0.0\n",
              "    DLOD     (d0) float64 2.7e-06 4.3e-06 3e-06 3.3e-06 ... 0.0 0.0 0.0 0.0\n",
              "    DPSI     (d0) float64 -112.4 -112.5 -112.5 -112.3 -112.1 ... 0.0 0.0 0.0 0.0\n",
              "    DDPSI    (d0) float64 0.174 0.086 0.086 0.086 0.081 ... 0.0 0.0 0.0 0.0 0.0\n",
              "    DEPS     (d0) float64 -7.223 -7.307 -7.465 -7.583 -7.617 ... 0.0 0.0 0.0 0.0\n",
              "    DDEPS    (d0) float64 0.183 0.26 0.26 0.26 0.272 ... 0.0 0.0 0.0 0.0 0.0\n",
              "Attributes: (12/20)\n",
              "    vs_create:    2020/02/10/03:00\n",
              "    vs_date:      2021/08/04/15:00\n",
              "    vs_version:   0623.0541\n",
              "    vs_type:      IERS Earth Orientation Data predicted from NEOS\n",
              "    tab_version:  0002.0000\n",
              "    mjd0:         58798.0\n",
              "    ...           ...\n",
              "    lod_unit:     s\n",
              "    dlod_unit:    s\n",
              "    dpsi_unit:    arcsec\n",
              "    ddpsi_unit:   arcsec\n",
              "    deps_unit:    arcsec\n",
              "    ddeps_unit:   arcsec</pre><div class='xr-wrap' hidden><div class='xr-header'><div class='xr-obj-type'>xarray.Dataset</div></div><ul class='xr-sections'><li class='xr-section-item'><input id='section-bdff0255-9a70-4f88-880f-7f73c47d6fa1' class='xr-section-summary-in' type='checkbox' disabled ><label for='section-bdff0255-9a70-4f88-880f-7f73c47d6fa1' class='xr-section-summary'  title='Expand/collapse section'>Dimensions:</label><div class='xr-section-inline-details'><ul class='xr-dim-list'><li><span>d0</span>: 722</li></ul></div><div class='xr-section-details'></div></li><li class='xr-section-item'><input id='section-8710198e-4756-48d8-be43-93034e190c46' class='xr-section-summary-in' type='checkbox' disabled ><label for='section-8710198e-4756-48d8-be43-93034e190c46' class='xr-section-summary'  title='Expand/collapse section'>Coordinates: <span>(0)</span></label><div class='xr-section-inline-details'></div><div class='xr-section-details'><ul class='xr-var-list'></ul></div></li><li class='xr-section-item'><input id='section-708ca094-34a3-49e7-857a-7f46c03c0572' class='xr-section-summary-in' type='checkbox'  checked><label for='section-708ca094-34a3-49e7-857a-7f46c03c0572' class='xr-section-summary' >Data variables: <span>(13)</span></label><div class='xr-section-inline-details'></div><div class='xr-section-details'><ul class='xr-var-list'><li class='xr-var-item'><div class='xr-var-name'><span>MJD</span></div><div class='xr-var-dims'>(d0)</div><div class='xr-var-dtype'>float64</div><div class='xr-var-preview xr-preview'>5.88e+04 5.88e+04 ... 5.952e+04</div><input id='attrs-47a2f6ac-7040-4820-a098-a7d60049f495' class='xr-var-attrs-in' type='checkbox' disabled><label for='attrs-47a2f6ac-7040-4820-a098-a7d60049f495' title='Show/Hide attributes'><svg class='icon xr-icon-file-text2'><use xlink:href='#icon-file-text2'></use></svg></label><input id='data-d323b8c1-3d67-474e-92fb-2451a8c25fad' class='xr-var-data-in' type='checkbox'><label for='data-d323b8c1-3d67-474e-92fb-2451a8c25fad' title='Show/Hide data repr'><svg class='icon xr-icon-database'><use xlink:href='#icon-database'></use></svg></label><div class='xr-var-attrs'><dl class='xr-attrs'></dl></div><div class='xr-var-data'><pre>array([58799., 58800., 58801., 58802., 58803., 58804., 58805., 58806.,\n",
              "       58807., 58808., 58809., 58810., 58811., 58812., 58813., 58814.,\n",
              "       58815., 58816., 58817., 58818., 58819., 58820., 58821., 58822.,\n",
              "       58823., 58824., 58825., 58826., 58827., 58828., 58829., 58830.,\n",
              "       58831., 58832., 58833., 58834., 58835., 58836., 58837., 58838.,\n",
              "       58839., 58840., 58841., 58842., 58843., 58844., 58845., 58846.,\n",
              "       58847., 58848., 58849., 58850., 58851., 58852., 58853., 58854.,\n",
              "       58855., 58856., 58857., 58858., 58859., 58860., 58861., 58862.,\n",
              "       58863., 58864., 58865., 58866., 58867., 58868., 58869., 58870.,\n",
              "       58871., 58872., 58873., 58874., 58875., 58876., 58877., 58878.,\n",
              "       58879., 58880., 58881., 58882., 58883., 58884., 58885., 58886.,\n",
              "       58887., 58888., 58889., 58890., 58891., 58892., 58893., 58894.,\n",
              "       58895., 58896., 58897., 58898., 58899., 58900., 58901., 58902.,\n",
              "       58903., 58904., 58905., 58906., 58907., 58908., 58909., 58910.,\n",
              "       58911., 58912., 58913., 58914., 58915., 58916., 58917., 58918.,\n",
              "       58919., 58920., 58921., 58922., 58923., 58924., 58925., 58926.,\n",
              "       58927., 58928., 58929., 58930., 58931., 58932., 58933., 58934.,\n",
              "       58935., 58936., 58937., 58938., 58939., 58940., 58941., 58942.,\n",
              "       58943., 58944., 58945., 58946., 58947., 58948., 58949., 58950.,\n",
              "       58951., 58952., 58953., 58954., 58955., 58956., 58957., 58958.,\n",
              "...\n",
              "       59367., 59368., 59369., 59370., 59371., 59372., 59373., 59374.,\n",
              "       59375., 59376., 59377., 59378., 59379., 59380., 59381., 59382.,\n",
              "       59383., 59384., 59385., 59386., 59387., 59388., 59389., 59390.,\n",
              "       59391., 59392., 59393., 59394., 59395., 59396., 59397., 59398.,\n",
              "       59399., 59400., 59401., 59402., 59403., 59404., 59405., 59406.,\n",
              "       59407., 59408., 59409., 59410., 59411., 59412., 59413., 59414.,\n",
              "       59415., 59416., 59417., 59418., 59419., 59420., 59421., 59422.,\n",
              "       59423., 59424., 59425., 59426., 59427., 59428., 59429., 59430.,\n",
              "       59431., 59432., 59433., 59434., 59435., 59436., 59437., 59438.,\n",
              "       59439., 59440., 59441., 59442., 59443., 59444., 59445., 59446.,\n",
              "       59447., 59448., 59449., 59450., 59451., 59452., 59453., 59454.,\n",
              "       59455., 59456., 59457., 59458., 59459., 59460., 59461., 59462.,\n",
              "       59463., 59464., 59465., 59466., 59467., 59468., 59469., 59470.,\n",
              "       59471., 59472., 59473., 59474., 59475., 59476., 59477., 59478.,\n",
              "       59479., 59480., 59481., 59482., 59483., 59484., 59485., 59486.,\n",
              "       59487., 59488., 59489., 59490., 59491., 59492., 59493., 59494.,\n",
              "       59495., 59496., 59497., 59498., 59499., 59500., 59501., 59502.,\n",
              "       59503., 59504., 59505., 59506., 59507., 59508., 59509., 59510.,\n",
              "       59511., 59512., 59513., 59514., 59515., 59516., 59517., 59518.,\n",
              "       59519., 59520.])</pre></div></li><li class='xr-var-item'><div class='xr-var-name'><span>X</span></div><div class='xr-var-dims'>(d0)</div><div class='xr-var-dtype'>float64</div><div class='xr-var-preview xr-preview'>0.1556 0.1544 ... 0.1733 0.1718</div><input id='attrs-e73ff763-341d-4c58-aa3a-c2b1d8edd404' class='xr-var-attrs-in' type='checkbox' disabled><label for='attrs-e73ff763-341d-4c58-aa3a-c2b1d8edd404' title='Show/Hide attributes'><svg class='icon xr-icon-file-text2'><use xlink:href='#icon-file-text2'></use></svg></label><input id='data-a9e38815-eeb9-41a8-9bd6-87cd9a5e6a84' class='xr-var-data-in' type='checkbox'><label for='data-a9e38815-eeb9-41a8-9bd6-87cd9a5e6a84' title='Show/Hide data repr'><svg class='icon xr-icon-database'><use xlink:href='#icon-database'></use></svg></label><div class='xr-var-attrs'><dl class='xr-attrs'></dl></div><div class='xr-var-data'><pre>array([0.15561 , 0.154351, 0.153207, 0.152088, 0.150201, 0.147669,\n",
              "       0.145298, 0.14331 , 0.141545, 0.139766, 0.137906, 0.135853,\n",
              "       0.133724, 0.131809, 0.130176, 0.128737, 0.127325, 0.125969,\n",
              "       0.124569, 0.123005, 0.12124 , 0.118987, 0.116255, 0.1135  ,\n",
              "       0.111235, 0.109446, 0.107927, 0.106765, 0.105912, 0.105285,\n",
              "       0.10501 , 0.104846, 0.104315, 0.103255, 0.101511, 0.099468,\n",
              "       0.097529, 0.095997, 0.095138, 0.09477 , 0.094384, 0.093352,\n",
              "       0.091853, 0.090251, 0.088561, 0.086874, 0.085029, 0.082849,\n",
              "       0.080395, 0.078279, 0.076569, 0.074634, 0.072735, 0.071354,\n",
              "       0.07006 , 0.068397, 0.066594, 0.064947, 0.063612, 0.062639,\n",
              "       0.061861, 0.061224, 0.060877, 0.060488, 0.059581, 0.058471,\n",
              "       0.057413, 0.056501, 0.055584, 0.054609, 0.053841, 0.05329 ,\n",
              "       0.052625, 0.052044, 0.051873, 0.051417, 0.050452, 0.049371,\n",
              "       0.048245, 0.047   , 0.045674, 0.044436, 0.043451, 0.042746,\n",
              "       0.04232 , 0.041983, 0.041243, 0.040032, 0.0388  , 0.03789 ,\n",
              "       0.03731 , 0.037   , 0.036798, 0.036591, 0.0363  , 0.035911,\n",
              "       0.03547 , 0.035048, 0.034676, 0.034383, 0.034164, 0.034002,\n",
              "       0.033883, 0.033759, 0.033606, 0.033439, 0.033284, 0.033162,\n",
              "       0.033097, 0.033096, 0.033144, 0.033222, 0.033312, 0.033407,\n",
              "       0.03351 , 0.033629, 0.033779, 0.033967, 0.034194, 0.034458,\n",
              "...\n",
              "       0.212937, 0.212806, 0.213554, 0.213526, 0.215521, 0.218684,\n",
              "       0.217845, 0.220667, 0.221849, 0.222845, 0.224154, 0.224939,\n",
              "       0.225688, 0.225646, 0.225132, 0.225984, 0.226004, 0.227453,\n",
              "       0.2286  , 0.228679, 0.229436, 0.229978, 0.23049 , 0.233091,\n",
              "       0.234136, 0.234516, 0.236449, 0.237591, 0.238661, 0.238991,\n",
              "       0.239748, 0.238608, 0.239139, 0.239458, 0.240815, 0.240555,\n",
              "       0.242285, 0.243241, 0.24258 , 0.244431, 0.243754, 0.243872,\n",
              "       0.243527, 0.243705, 0.242989, 0.2427  , 0.242749, 0.242204,\n",
              "       0.242134, 0.241723, 0.242446, 0.240597, 0.239995, 0.2393  ,\n",
              "       0.239668, 0.237182, 0.236168, 0.234955, 0.234578, 0.234876,\n",
              "       0.235   , 0.233968, 0.232165, 0.232161, 0.231978, 0.231844,\n",
              "       0.230486, 0.227499, 0.226607, 0.226181, 0.226555, 0.225935,\n",
              "       0.226478, 0.223961, 0.222474, 0.221471, 0.22017 , 0.218677,\n",
              "       0.219563, 0.219408, 0.216686, 0.215613, 0.214094, 0.213804,\n",
              "       0.213338, 0.212719, 0.211747, 0.211144, 0.211276, 0.209657,\n",
              "       0.207602, 0.207611, 0.205548, 0.205002, 0.20442 , 0.203205,\n",
              "       0.201593, 0.200629, 0.200691, 0.199101, 0.197374, 0.19615 ,\n",
              "       0.19488 , 0.193095, 0.190834, 0.18928 , 0.185967, 0.183489,\n",
              "       0.181279, 0.178286, 0.176105, 0.17569 , 0.175096, 0.174175,\n",
              "       0.173312, 0.171779])</pre></div></li><li class='xr-var-item'><div class='xr-var-name'><span>DX</span></div><div class='xr-var-dims'>(d0)</div><div class='xr-var-dtype'>float64</div><div class='xr-var-preview xr-preview'>1.9e-05 3e-05 ... 0.008175 0.007888</div><input id='attrs-1fbd06a7-8089-4698-9c20-4c0e79877d2d' class='xr-var-attrs-in' type='checkbox' disabled><label for='attrs-1fbd06a7-8089-4698-9c20-4c0e79877d2d' title='Show/Hide attributes'><svg class='icon xr-icon-file-text2'><use xlink:href='#icon-file-text2'></use></svg></label><input id='data-289542c0-c772-49ee-b43f-fa8392670446' class='xr-var-data-in' type='checkbox'><label for='data-289542c0-c772-49ee-b43f-fa8392670446' title='Show/Hide data repr'><svg class='icon xr-icon-database'><use xlink:href='#icon-database'></use></svg></label><div class='xr-var-attrs'><dl class='xr-attrs'></dl></div><div class='xr-var-data'><pre>array([1.900e-05, 3.000e-05, 3.000e-05, 3.100e-05, 2.600e-05, 2.500e-05,\n",
              "       2.600e-05, 1.300e-05, 1.900e-05, 1.900e-05, 1.900e-05, 1.800e-05,\n",
              "       2.200e-05, 2.400e-05, 1.900e-05, 1.800e-05, 1.800e-05, 1.800e-05,\n",
              "       1.500e-05, 1.600e-05, 1.600e-05, 1.900e-05, 3.100e-05, 3.100e-05,\n",
              "       2.900e-05, 2.700e-05, 3.300e-05, 3.300e-05, 2.400e-05, 3.800e-05,\n",
              "       3.900e-05, 3.900e-05, 3.500e-05, 3.400e-05, 4.000e-05, 2.700e-05,\n",
              "       3.200e-05, 3.200e-05, 3.300e-05, 3.400e-05, 3.000e-05, 3.000e-05,\n",
              "       2.400e-05, 3.600e-05, 3.400e-05, 3.400e-05, 3.300e-05, 4.200e-05,\n",
              "       4.200e-05, 3.300e-05, 3.500e-05, 3.600e-05, 3.200e-05, 1.900e-05,\n",
              "       1.700e-05, 4.500e-05, 4.300e-05, 4.700e-05, 4.700e-05, 4.800e-05,\n",
              "       4.800e-05, 4.000e-05, 4.000e-05, 3.500e-05, 4.400e-05, 4.500e-05,\n",
              "       4.500e-05, 3.200e-05, 3.200e-05, 4.400e-05, 3.700e-05, 3.600e-05,\n",
              "       3.800e-05, 4.200e-05, 4.400e-05, 2.800e-05, 9.200e-05, 9.200e-05,\n",
              "       9.100e-05, 9.100e-05, 9.100e-05, 9.100e-05, 9.100e-05, 9.100e-05,\n",
              "       9.200e-05, 9.200e-05, 9.300e-05, 9.200e-05, 9.200e-05, 9.200e-05,\n",
              "       6.010e-04, 8.930e-04, 1.125e-03, 1.325e-03, 1.505e-03, 1.670e-03,\n",
              "       1.823e-03, 1.967e-03, 2.104e-03, 2.234e-03, 2.359e-03, 2.479e-03,\n",
              "       2.595e-03, 2.707e-03, 2.815e-03, 2.921e-03, 3.023e-03, 3.123e-03,\n",
              "       3.221e-03, 3.317e-03, 3.410e-03, 3.502e-03, 3.592e-03, 3.680e-03,\n",
              "       3.767e-03, 3.852e-03, 3.936e-03, 4.018e-03, 4.099e-03, 4.179e-03,\n",
              "...\n",
              "       8.136e-03, 8.327e-03, 7.919e-03, 7.880e-03, 7.994e-03, 7.932e-03,\n",
              "       7.867e-03, 8.272e-03, 7.850e-03, 7.869e-03, 7.868e-03, 7.877e-03,\n",
              "       7.849e-03, 7.894e-03, 8.831e-03, 7.857e-03, 8.008e-03, 7.860e-03,\n",
              "       7.866e-03, 7.854e-03, 7.919e-03, 7.878e-03, 7.874e-03, 8.101e-03,\n",
              "       7.975e-03, 7.850e-03, 8.283e-03, 7.849e-03, 7.967e-03, 7.869e-03,\n",
              "       7.854e-03, 7.956e-03, 7.889e-03, 7.895e-03, 7.878e-03, 7.849e-03,\n",
              "       8.386e-03, 8.147e-03, 7.851e-03, 8.247e-03, 8.092e-03, 7.865e-03,\n",
              "       7.851e-03, 7.870e-03, 7.859e-03, 7.879e-03, 7.850e-03, 7.863e-03,\n",
              "       7.913e-03, 7.855e-03, 7.851e-03, 7.974e-03, 7.850e-03, 7.977e-03,\n",
              "       7.854e-03, 7.938e-03, 8.043e-03, 8.283e-03, 7.854e-03, 7.855e-03,\n",
              "       7.854e-03, 7.882e-03, 7.860e-03, 7.850e-03, 7.862e-03, 7.854e-03,\n",
              "       7.943e-03, 8.093e-03, 7.872e-03, 7.885e-03, 7.854e-03, 7.860e-03,\n",
              "       7.850e-03, 7.882e-03, 7.853e-03, 7.865e-03, 7.862e-03, 7.872e-03,\n",
              "       7.894e-03, 7.956e-03, 8.055e-03, 7.864e-03, 7.850e-03, 8.087e-03,\n",
              "       8.171e-03, 7.997e-03, 7.987e-03, 8.152e-03, 8.218e-03, 7.876e-03,\n",
              "       7.891e-03, 7.984e-03, 7.898e-03, 8.029e-03, 7.959e-03, 7.898e-03,\n",
              "       7.933e-03, 7.890e-03, 8.071e-03, 7.856e-03, 7.875e-03, 7.906e-03,\n",
              "       7.885e-03, 7.853e-03, 7.867e-03, 7.849e-03, 8.286e-03, 7.923e-03,\n",
              "       7.849e-03, 7.925e-03, 7.881e-03, 7.864e-03, 7.867e-03, 7.916e-03,\n",
              "       8.175e-03, 7.888e-03])</pre></div></li><li class='xr-var-item'><div class='xr-var-name'><span>Y</span></div><div class='xr-var-dims'>(d0)</div><div class='xr-var-dtype'>float64</div><div class='xr-var-preview xr-preview'>0.275 0.275 0.275 ... 0.251 0.2493</div><input id='attrs-6ef73bc8-23bc-4172-8e6f-631b626feebd' class='xr-var-attrs-in' type='checkbox' disabled><label for='attrs-6ef73bc8-23bc-4172-8e6f-631b626feebd' title='Show/Hide attributes'><svg class='icon xr-icon-file-text2'><use xlink:href='#icon-file-text2'></use></svg></label><input id='data-f9813d49-4bd4-4cb0-9d63-7273acee266f' class='xr-var-data-in' type='checkbox'><label for='data-f9813d49-4bd4-4cb0-9d63-7273acee266f' title='Show/Hide data repr'><svg class='icon xr-icon-database'><use xlink:href='#icon-database'></use></svg></label><div class='xr-var-attrs'><dl class='xr-attrs'></dl></div><div class='xr-var-data'><pre>array([0.27501 , 0.27501 , 0.274969, 0.27502 , 0.275005, 0.274456,\n",
              "       0.273694, 0.273058, 0.272424, 0.271741, 0.271036, 0.270515,\n",
              "       0.270041, 0.269514, 0.269165, 0.26912 , 0.269361, 0.269622,\n",
              "       0.269945, 0.270435, 0.270938, 0.271327, 0.271408, 0.271298,\n",
              "       0.27115 , 0.271069, 0.270984, 0.270938, 0.271004, 0.271076,\n",
              "       0.271306, 0.272032, 0.273173, 0.274135, 0.274754, 0.275073,\n",
              "       0.27533 , 0.275701, 0.276104, 0.276514, 0.277276, 0.278312,\n",
              "       0.279082, 0.279597, 0.280083, 0.280693, 0.281286, 0.281644,\n",
              "       0.281771, 0.281916, 0.282308, 0.282713, 0.283197, 0.284008,\n",
              "       0.284815, 0.285241, 0.285507, 0.285949, 0.286611, 0.287511,\n",
              "       0.288664, 0.28985 , 0.29102 , 0.292352, 0.293794, 0.29532 ,\n",
              "       0.296714, 0.297679, 0.298577, 0.299483, 0.300266, 0.301207,\n",
              "       0.302491, 0.303673, 0.304865, 0.306223, 0.307419, 0.308662,\n",
              "       0.310096, 0.311561, 0.312956, 0.314412, 0.316001, 0.317667,\n",
              "       0.319407, 0.321163, 0.322716, 0.323913, 0.3248  , 0.32536 ,\n",
              "       0.326066, 0.32675 , 0.327742, 0.329009, 0.330441, 0.331938,\n",
              "       0.333401, 0.334787, 0.336112, 0.337412, 0.33873 , 0.340078,\n",
              "       0.341477, 0.34295 , 0.344492, 0.346054, 0.347586, 0.349091,\n",
              "       0.350585, 0.352092, 0.353619, 0.355172, 0.356749, 0.358331,\n",
              "       0.359902, 0.361454, 0.362993, 0.364521, 0.366045, 0.367569,\n",
              "...\n",
              "       0.40968 , 0.409522, 0.408557, 0.410662, 0.409019, 0.40443 ,\n",
              "       0.401788, 0.398379, 0.398043, 0.396627, 0.396785, 0.395954,\n",
              "       0.394867, 0.393971, 0.394705, 0.393342, 0.392571, 0.390586,\n",
              "       0.388734, 0.386726, 0.385306, 0.38375 , 0.382154, 0.380865,\n",
              "       0.378562, 0.377454, 0.375753, 0.375371, 0.374217, 0.372048,\n",
              "       0.371174, 0.370098, 0.367626, 0.364889, 0.364399, 0.362735,\n",
              "       0.36037 , 0.358345, 0.356533, 0.353927, 0.350636, 0.349457,\n",
              "       0.3486  , 0.347266, 0.345091, 0.343371, 0.342492, 0.340909,\n",
              "       0.339836, 0.33775 , 0.337105, 0.335624, 0.332701, 0.332133,\n",
              "       0.332682, 0.329582, 0.326807, 0.327037, 0.32589 , 0.323819,\n",
              "       0.322092, 0.321313, 0.318098, 0.317074, 0.318513, 0.317178,\n",
              "       0.316186, 0.313122, 0.311438, 0.308456, 0.306957, 0.305725,\n",
              "       0.306303, 0.302378, 0.299818, 0.298166, 0.296333, 0.295234,\n",
              "       0.294804, 0.293301, 0.289245, 0.286955, 0.2859  , 0.284141,\n",
              "       0.282212, 0.280241, 0.279299, 0.277366, 0.275507, 0.274158,\n",
              "       0.272433, 0.269446, 0.268527, 0.26808 , 0.267667, 0.267117,\n",
              "       0.265168, 0.263835, 0.263514, 0.262914, 0.260952, 0.259167,\n",
              "       0.258391, 0.258088, 0.256159, 0.255971, 0.257145, 0.257344,\n",
              "       0.255816, 0.254212, 0.253   , 0.252379, 0.252799, 0.252841,\n",
              "       0.250965, 0.249283])</pre></div></li><li class='xr-var-item'><div class='xr-var-name'><span>DY</span></div><div class='xr-var-dims'>(d0)</div><div class='xr-var-dtype'>float64</div><div class='xr-var-preview xr-preview'>2.1e-05 2.4e-05 ... 0.01041 0.01058</div><input id='attrs-6fe6e956-5f3c-43fd-940b-d6dee4401b40' class='xr-var-attrs-in' type='checkbox' disabled><label for='attrs-6fe6e956-5f3c-43fd-940b-d6dee4401b40' title='Show/Hide attributes'><svg class='icon xr-icon-file-text2'><use xlink:href='#icon-file-text2'></use></svg></label><input id='data-4aa5d3f6-d107-4be4-a1e5-498ebc3b7dc2' class='xr-var-data-in' type='checkbox'><label for='data-4aa5d3f6-d107-4be4-a1e5-498ebc3b7dc2' title='Show/Hide data repr'><svg class='icon xr-icon-database'><use xlink:href='#icon-database'></use></svg></label><div class='xr-var-attrs'><dl class='xr-attrs'></dl></div><div class='xr-var-data'><pre>array([2.1000e-05, 2.4000e-05, 2.6000e-05, 2.7000e-05, 1.9000e-05,\n",
              "       2.7000e-05, 2.6000e-05, 2.5000e-05, 2.9000e-05, 2.8000e-05,\n",
              "       2.8000e-05, 2.0000e-05, 2.3000e-05, 3.4000e-05, 2.9000e-05,\n",
              "       2.9000e-05, 2.9000e-05, 2.9000e-05, 2.6000e-05, 1.4000e-05,\n",
              "       1.4000e-05, 1.4000e-05, 1.8000e-05, 2.0000e-05, 2.1000e-05,\n",
              "       1.8000e-05, 1.8000e-05, 1.8000e-05, 1.8000e-05, 2.3000e-05,\n",
              "       2.2000e-05, 2.1000e-05, 2.2000e-05, 2.2000e-05, 2.7000e-05,\n",
              "       2.0000e-05, 2.5000e-05, 2.8000e-05, 2.9000e-05, 2.9000e-05,\n",
              "       2.8000e-05, 2.8000e-05, 2.3000e-05, 3.4000e-05, 3.3000e-05,\n",
              "       3.3000e-05, 2.9000e-05, 3.7000e-05, 3.7000e-05, 2.1000e-05,\n",
              "       2.9000e-05, 2.9000e-05, 3.0000e-05, 2.2000e-05, 2.1000e-05,\n",
              "       2.8000e-05, 2.1000e-05, 2.9000e-05, 2.9000e-05, 2.8000e-05,\n",
              "       2.9000e-05, 2.7000e-05, 2.8000e-05, 2.0000e-05, 2.6000e-05,\n",
              "       2.7000e-05, 2.7000e-05, 2.3000e-05, 2.1000e-05, 2.3000e-05,\n",
              "       2.2000e-05, 2.5000e-05, 2.5000e-05, 2.7000e-05, 3.0000e-05,\n",
              "       3.0000e-05, 9.1000e-05, 9.1000e-05, 9.1000e-05, 9.1000e-05,\n",
              "       9.1000e-05, 9.0000e-05, 9.1000e-05, 9.1000e-05, 9.1000e-05,\n",
              "       9.1000e-05, 9.1000e-05, 9.1000e-05, 9.2000e-05, 9.1000e-05,\n",
              "       4.6900e-04, 7.7300e-04, 1.0350e-03, 1.2730e-03, 1.4950e-03,\n",
              "       1.7050e-03, 1.9050e-03, 2.0980e-03, 2.2830e-03, 2.4630e-03,\n",
              "...\n",
              "       1.0391e-02, 1.0376e-02, 1.0321e-02, 1.0295e-02, 1.0824e-02,\n",
              "       1.0450e-02, 1.0294e-02, 1.0381e-02, 1.0961e-02, 1.0959e-02,\n",
              "       1.0318e-02, 1.1030e-02, 1.0320e-02, 1.0742e-02, 1.0704e-02,\n",
              "       1.1088e-02, 1.0328e-02, 1.0406e-02, 1.0327e-02, 1.0766e-02,\n",
              "       1.1773e-02, 1.0448e-02, 1.0328e-02, 1.0336e-02, 1.0310e-02,\n",
              "       1.0569e-02, 1.0375e-02, 1.0862e-02, 1.0295e-02, 1.0443e-02,\n",
              "       1.0324e-02, 1.0682e-02, 1.0346e-02, 1.0327e-02, 1.0651e-02,\n",
              "       1.0601e-02, 1.0384e-02, 1.0305e-02, 1.0296e-02, 1.0314e-02,\n",
              "       1.0320e-02, 1.0294e-02, 1.0335e-02, 1.0336e-02, 1.0701e-02,\n",
              "       1.0704e-02, 1.0584e-02, 1.0307e-02, 1.0297e-02, 1.0309e-02,\n",
              "       1.0402e-02, 1.0379e-02, 1.0300e-02, 1.0411e-02, 1.0542e-02,\n",
              "       1.0822e-02, 1.0366e-02, 1.0358e-02, 1.0294e-02, 1.0301e-02,\n",
              "       1.0294e-02, 1.0905e-02, 1.0387e-02, 1.0294e-02, 1.0314e-02,\n",
              "       1.0366e-02, 1.0295e-02, 1.0380e-02, 1.0303e-02, 1.0317e-02,\n",
              "       1.0294e-02, 1.0299e-02, 1.0649e-02, 1.0388e-02, 1.0473e-02,\n",
              "       1.0478e-02, 1.0428e-02, 1.0294e-02, 1.0430e-02, 1.0986e-02,\n",
              "       1.0313e-02, 1.0412e-02, 1.0294e-02, 1.0311e-02, 1.0408e-02,\n",
              "       1.0746e-02, 1.0352e-02, 1.0704e-02, 1.0502e-02, 1.0759e-02,\n",
              "       1.1470e-02, 1.0430e-02, 1.0309e-02, 1.0678e-02, 1.0605e-02,\n",
              "       1.0412e-02, 1.0584e-02])</pre></div></li><li class='xr-var-item'><div class='xr-var-name'><span>DUT1</span></div><div class='xr-var-dims'>(d0)</div><div class='xr-var-dtype'>float64</div><div class='xr-var-preview xr-preview'>-0.1629 -0.1634 ... -0.1274 -0.1279</div><input id='attrs-cc11d870-6cca-4786-9590-a3009227a465' class='xr-var-attrs-in' type='checkbox' disabled><label for='attrs-cc11d870-6cca-4786-9590-a3009227a465' title='Show/Hide attributes'><svg class='icon xr-icon-file-text2'><use xlink:href='#icon-file-text2'></use></svg></label><input id='data-4c9d5ede-d56c-4887-85b9-ff1a081a6862' class='xr-var-data-in' type='checkbox'><label for='data-4c9d5ede-d56c-4887-85b9-ff1a081a6862' title='Show/Hide data repr'><svg class='icon xr-icon-database'><use xlink:href='#icon-database'></use></svg></label><div class='xr-var-attrs'><dl class='xr-attrs'></dl></div><div class='xr-var-data'><pre>array([-0.1629016, -0.1634322, -0.1638607, -0.1641748, -0.1643874,\n",
              "       -0.1644675, -0.1645154, -0.1646586, -0.1649612, -0.1655493,\n",
              "       -0.1663393, -0.1672099, -0.168094 , -0.1688987, -0.1694756,\n",
              "       -0.169785 , -0.1699443, -0.1700169, -0.1700293, -0.1700123,\n",
              "       -0.1700653, -0.170206 , -0.1704156, -0.1706799, -0.1710251,\n",
              "       -0.1714207, -0.171855 , -0.1722617, -0.1725362, -0.1726174,\n",
              "       -0.1725901, -0.1724584, -0.1722727, -0.1720969, -0.1719944,\n",
              "       -0.1720312, -0.1722495, -0.1727188, -0.1733556, -0.1740359,\n",
              "       -0.1747086, -0.1752978, -0.1757534, -0.1760342, -0.1761587,\n",
              "       -0.176213 , -0.1762436, -0.1763161, -0.1764905, -0.1767706,\n",
              "       -0.1771547, -0.177625 , -0.1781154, -0.1785869, -0.1790735,\n",
              "       -0.1794193, -0.1795483, -0.1795299, -0.1793763, -0.1791192,\n",
              "       -0.1788748, -0.1787843, -0.1789329, -0.1793281, -0.1799617,\n",
              "       -0.1807896, -0.181745 , -0.1827813, -0.1837528, -0.1846003,\n",
              "       -0.1852812, -0.1857934, -0.1861533, -0.1864636, -0.1867794,\n",
              "       -0.1871862, -0.1877109, -0.1883372, -0.1890497, -0.1898059,\n",
              "       -0.1905386, -0.1911716, -0.1917139, -0.1921839, -0.1925169,\n",
              "       -0.1927145, -0.1928449, -0.1929292, -0.1930171, -0.1932714,\n",
              "       -0.1938406, -0.1946783, -0.1956714, -0.1967056, -0.1976695,\n",
              "       -0.1984746, -0.1990701, -0.1994502, -0.19965  , -0.1997344,\n",
              "...\n",
              "       -0.1199239, -0.1193507, -0.1186333, -0.1182904, -0.117253 ,\n",
              "       -0.1158283, -0.1149587, -0.1137391, -0.1127275, -0.1120971,\n",
              "       -0.1115183, -0.1111275, -0.111312 , -0.1121951, -0.1128303,\n",
              "       -0.1132574, -0.1138329, -0.1137347, -0.1141121, -0.1137595,\n",
              "       -0.1138423, -0.1132981, -0.1133891, -0.1128047, -0.1127447,\n",
              "       -0.1128734, -0.1127494, -0.1125181, -0.1128702, -0.1132707,\n",
              "       -0.1132856, -0.1127588, -0.112046 , -0.111189 , -0.1105693,\n",
              "       -0.1100147, -0.1092721, -0.1088739, -0.1086342, -0.1085368,\n",
              "       -0.1093071, -0.1097437, -0.1108413, -0.112228 , -0.1124331,\n",
              "       -0.1131133, -0.1129244, -0.1123103, -0.1115702, -0.111339 ,\n",
              "       -0.1108668, -0.1100634, -0.1098743, -0.1102631, -0.1100482,\n",
              "       -0.1095808, -0.109833 , -0.1096314, -0.109191 , -0.1091598,\n",
              "       -0.1088029, -0.107999 , -0.1074507, -0.107127 , -0.1064932,\n",
              "       -0.1060825, -0.1067078, -0.1072479, -0.1080715, -0.1092432,\n",
              "       -0.1103903, -0.1112681, -0.1124171, -0.1127571, -0.1135492,\n",
              "       -0.1135435, -0.1138864, -0.1143947, -0.1146843, -0.1154963,\n",
              "       -0.1158196, -0.1168574, -0.1183511, -0.1198081, -0.1210061,\n",
              "       -0.1216186, -0.1220805, -0.122848 , -0.123403 , -0.1232105,\n",
              "       -0.1236509, -0.124331 , -0.1248972, -0.1258176, -0.1266368,\n",
              "       -0.1273799, -0.127938 ])</pre></div></li><li class='xr-var-item'><div class='xr-var-name'><span>DDUT1</span></div><div class='xr-var-dims'>(d0)</div><div class='xr-var-dtype'>float64</div><div class='xr-var-preview xr-preview'>7.3e-06 3.7e-06 ... 0.008526</div><input id='attrs-b4844dd4-ceac-4ff8-9cb8-eaf68b18a42a' class='xr-var-attrs-in' type='checkbox' disabled><label for='attrs-b4844dd4-ceac-4ff8-9cb8-eaf68b18a42a' title='Show/Hide attributes'><svg class='icon xr-icon-file-text2'><use xlink:href='#icon-file-text2'></use></svg></label><input id='data-fedfef2c-3c05-4888-811b-af761c206284' class='xr-var-data-in' type='checkbox'><label for='data-fedfef2c-3c05-4888-811b-af761c206284' title='Show/Hide data repr'><svg class='icon xr-icon-database'><use xlink:href='#icon-database'></use></svg></label><div class='xr-var-attrs'><dl class='xr-attrs'></dl></div><div class='xr-var-data'><pre>array([7.3000e-06, 3.7000e-06, 4.7000e-06, 4.7000e-06, 4.5000e-06,\n",
              "       3.8000e-06, 3.9000e-06, 5.4000e-06, 3.2000e-06, 3.5000e-06,\n",
              "       3.6000e-06, 4.5000e-06, 3.8000e-06, 4.3000e-06, 4.9000e-06,\n",
              "       4.9000e-06, 5.0000e-06, 4.9000e-06, 5.9000e-06, 8.2000e-06,\n",
              "       8.0000e-06, 8.1000e-06, 5.9000e-06, 5.9000e-06, 5.8000e-06,\n",
              "       5.1000e-06, 5.0000e-06, 4.8000e-06, 6.6000e-06, 5.7000e-06,\n",
              "       5.9000e-06, 5.9000e-06, 7.3000e-06, 7.3000e-06, 6.7000e-06,\n",
              "       8.3000e-06, 4.0000e-06, 4.1000e-06, 4.1000e-06, 3.7000e-06,\n",
              "       2.8000e-06, 3.0000e-06, 8.3000e-06, 5.9000e-06, 6.0000e-06,\n",
              "       5.8000e-06, 6.6000e-06, 7.5000e-06, 7.1000e-06, 1.1500e-05,\n",
              "       6.5000e-06, 6.8000e-06, 8.1000e-06, 7.2000e-06, 9.1000e-06,\n",
              "       9.3000e-06, 2.1500e-05, 8.7000e-06, 8.2000e-06, 8.3000e-06,\n",
              "       7.4000e-06, 5.2000e-06, 4.7000e-06, 3.1000e-06, 2.7000e-06,\n",
              "       2.7000e-06, 3.0000e-06, 3.9000e-06, 4.0000e-06, 5.9000e-06,\n",
              "       1.0400e-05, 7.4000e-06, 7.5000e-06, 7.4000e-06, 7.4000e-06,\n",
              "       5.3000e-06, 4.4000e-06, 8.8000e-06, 8.1000e-06, 1.0700e-05,\n",
              "       1.0400e-05, 1.0700e-05, 1.0600e-05, 1.1300e-05, 1.4300e-05,\n",
              "       1.6500e-05, 2.0300e-05, 2.0200e-05, 2.1000e-05, 1.9600e-05,\n",
              "       1.0800e-04, 2.0410e-04, 3.0280e-04, 4.0210e-04, 5.0170e-04,\n",
              "       6.0140e-04, 7.0120e-04, 7.5000e-04, 5.5000e-04, 7.5480e-04,\n",
              "...\n",
              "       8.5261e-03, 8.5261e-03, 8.5261e-03, 8.5261e-03, 8.5261e-03,\n",
              "       8.5261e-03, 8.5261e-03, 8.5261e-03, 8.5261e-03, 8.5261e-03,\n",
              "       8.5261e-03, 8.5261e-03, 8.5261e-03, 8.5261e-03, 8.5261e-03,\n",
              "       8.5261e-03, 8.5261e-03, 8.5261e-03, 8.5261e-03, 8.5261e-03,\n",
              "       8.5261e-03, 8.5261e-03, 8.5261e-03, 8.5261e-03, 8.5261e-03,\n",
              "       8.5261e-03, 8.5261e-03, 8.5261e-03, 8.5261e-03, 8.5261e-03,\n",
              "       8.5261e-03, 8.5261e-03, 8.5261e-03, 8.5261e-03, 8.5261e-03,\n",
              "       8.5261e-03, 8.5261e-03, 8.5261e-03, 8.5261e-03, 8.5261e-03,\n",
              "       8.5261e-03, 8.5261e-03, 8.5261e-03, 8.5261e-03, 8.5261e-03,\n",
              "       8.5261e-03, 8.5261e-03, 8.5261e-03, 8.5261e-03, 8.5261e-03,\n",
              "       8.5261e-03, 8.5261e-03, 8.5261e-03, 8.5261e-03, 8.5261e-03,\n",
              "       8.5261e-03, 8.5261e-03, 8.5261e-03, 8.5261e-03, 8.5261e-03,\n",
              "       8.5261e-03, 8.5261e-03, 8.5261e-03, 8.5261e-03, 8.5261e-03,\n",
              "       8.5261e-03, 8.5261e-03, 8.5261e-03, 8.5261e-03, 8.5261e-03,\n",
              "       8.5261e-03, 8.5261e-03, 8.5261e-03, 8.5261e-03, 8.5261e-03,\n",
              "       8.5261e-03, 8.5261e-03, 8.5261e-03, 8.5261e-03, 8.5261e-03,\n",
              "       8.5261e-03, 8.5261e-03, 8.5261e-03, 8.5261e-03, 8.5261e-03,\n",
              "       8.5261e-03, 8.5261e-03, 8.5261e-03, 8.5261e-03, 8.5261e-03,\n",
              "       8.5261e-03, 8.5261e-03, 8.5261e-03, 8.5261e-03, 8.5261e-03,\n",
              "       8.5261e-03, 8.5261e-03])</pre></div></li><li class='xr-var-item'><div class='xr-var-name'><span>LOD</span></div><div class='xr-var-dims'>(d0)</div><div class='xr-var-dtype'>float64</div><div class='xr-var-preview xr-preview'>0.0005854 0.0004804 ... 0.0 0.0</div><input id='attrs-17ab2abb-dbe6-42ef-b384-f4cb9b36df1d' class='xr-var-attrs-in' type='checkbox' disabled><label for='attrs-17ab2abb-dbe6-42ef-b384-f4cb9b36df1d' title='Show/Hide attributes'><svg class='icon xr-icon-file-text2'><use xlink:href='#icon-file-text2'></use></svg></label><input id='data-73275684-512c-4198-8fb0-5ff6ed5d17b5' class='xr-var-data-in' type='checkbox'><label for='data-73275684-512c-4198-8fb0-5ff6ed5d17b5' title='Show/Hide data repr'><svg class='icon xr-icon-database'><use xlink:href='#icon-database'></use></svg></label><div class='xr-var-attrs'><dl class='xr-attrs'></dl></div><div class='xr-var-data'><pre>array([ 5.8540e-04,  4.8040e-04,  3.7020e-04,  2.6680e-04,  1.4290e-04,\n",
              "        3.9700e-05,  8.2400e-05,  2.0400e-04,  4.3890e-04,  7.1250e-04,\n",
              "        8.4530e-04,  8.8800e-04,  8.6680e-04,  7.1130e-04,  4.3300e-04,\n",
              "        2.1580e-04,  1.1000e-04,  4.0000e-05, -1.4900e-05,  6.0000e-06,\n",
              "        9.8900e-05,  1.7940e-04,  2.3430e-04,  3.0490e-04,  3.7440e-04,\n",
              "        4.1980e-04,  4.3610e-04,  3.5870e-04,  1.7270e-04,  1.7500e-05,\n",
              "       -8.1100e-05, -1.7000e-04, -1.9090e-04, -1.5090e-04, -4.0500e-05,\n",
              "        1.1570e-04,  3.4280e-04,  5.7580e-04,  6.7240e-04,  6.8610e-04,\n",
              "        6.4240e-04,  5.3000e-04,  3.7190e-04,  1.9160e-04,  7.7600e-05,\n",
              "        3.4500e-05,  3.9100e-05,  1.1840e-04,  2.2820e-04,  3.3250e-04,\n",
              "        4.3450e-04,  4.9290e-04,  4.7600e-04,  4.8860e-04,  4.4370e-04,\n",
              "        2.3370e-04,  4.6000e-05, -8.6000e-05, -2.1790e-04, -2.7460e-04,\n",
              "       -1.8810e-04,  2.2400e-05,  2.7280e-04,  5.1790e-04,  7.4200e-04,\n",
              "        8.9870e-04,  1.0132e-03,  1.0234e-03,  9.1640e-04,  7.6800e-04,\n",
              "        5.9660e-04,  4.2470e-04,  3.2100e-04,  3.0190e-04,  3.4980e-04,\n",
              "        4.6660e-04,  5.7820e-04,  6.7370e-04,  7.4350e-04,  7.5850e-04,\n",
              "        6.8930e-04,  5.8130e-04,  5.1130e-04,  4.1040e-04,  2.5620e-04,\n",
              "        1.5660e-04,  1.0140e-04,  8.2000e-05,  8.7200e-05,  0.0000e+00,\n",
              "        0.0000e+00,  0.0000e+00,  0.0000e+00,  0.0000e+00,  0.0000e+00,\n",
              "        0.0000e+00,  0.0000e+00,  0.0000e+00,  0.0000e+00,  0.0000e+00,\n",
              "...\n",
              "        0.0000e+00,  0.0000e+00,  0.0000e+00,  0.0000e+00,  0.0000e+00,\n",
              "        0.0000e+00,  0.0000e+00,  0.0000e+00,  0.0000e+00,  0.0000e+00,\n",
              "        0.0000e+00,  0.0000e+00,  0.0000e+00,  0.0000e+00,  0.0000e+00,\n",
              "        0.0000e+00,  0.0000e+00,  0.0000e+00,  0.0000e+00,  0.0000e+00,\n",
              "        0.0000e+00,  0.0000e+00,  0.0000e+00,  0.0000e+00,  0.0000e+00,\n",
              "        0.0000e+00,  0.0000e+00,  0.0000e+00,  0.0000e+00,  0.0000e+00,\n",
              "        0.0000e+00,  0.0000e+00,  0.0000e+00,  0.0000e+00,  0.0000e+00,\n",
              "        0.0000e+00,  0.0000e+00,  0.0000e+00,  0.0000e+00,  0.0000e+00,\n",
              "        0.0000e+00,  0.0000e+00,  0.0000e+00,  0.0000e+00,  0.0000e+00,\n",
              "        0.0000e+00,  0.0000e+00,  0.0000e+00,  0.0000e+00,  0.0000e+00,\n",
              "        0.0000e+00,  0.0000e+00,  0.0000e+00,  0.0000e+00,  0.0000e+00,\n",
              "        0.0000e+00,  0.0000e+00,  0.0000e+00,  0.0000e+00,  0.0000e+00,\n",
              "        0.0000e+00,  0.0000e+00,  0.0000e+00,  0.0000e+00,  0.0000e+00,\n",
              "        0.0000e+00,  0.0000e+00,  0.0000e+00,  0.0000e+00,  0.0000e+00,\n",
              "        0.0000e+00,  0.0000e+00,  0.0000e+00,  0.0000e+00,  0.0000e+00,\n",
              "        0.0000e+00,  0.0000e+00,  0.0000e+00,  0.0000e+00,  0.0000e+00,\n",
              "        0.0000e+00,  0.0000e+00,  0.0000e+00,  0.0000e+00,  0.0000e+00,\n",
              "        0.0000e+00,  0.0000e+00,  0.0000e+00,  0.0000e+00,  0.0000e+00,\n",
              "        0.0000e+00,  0.0000e+00,  0.0000e+00,  0.0000e+00,  0.0000e+00,\n",
              "        0.0000e+00,  0.0000e+00])</pre></div></li><li class='xr-var-item'><div class='xr-var-name'><span>DLOD</span></div><div class='xr-var-dims'>(d0)</div><div class='xr-var-dtype'>float64</div><div class='xr-var-preview xr-preview'>2.7e-06 4.3e-06 3e-06 ... 0.0 0.0</div><input id='attrs-b631338a-ff10-4135-a918-467a3eea7f75' class='xr-var-attrs-in' type='checkbox' disabled><label for='attrs-b631338a-ff10-4135-a918-467a3eea7f75' title='Show/Hide attributes'><svg class='icon xr-icon-file-text2'><use xlink:href='#icon-file-text2'></use></svg></label><input id='data-19d4af08-3c07-439d-a961-c89222419c3e' class='xr-var-data-in' type='checkbox'><label for='data-19d4af08-3c07-439d-a961-c89222419c3e' title='Show/Hide data repr'><svg class='icon xr-icon-database'><use xlink:href='#icon-database'></use></svg></label><div class='xr-var-attrs'><dl class='xr-attrs'></dl></div><div class='xr-var-data'><pre>array([2.70e-06, 4.30e-06, 3.00e-06, 3.30e-06, 3.00e-06, 3.00e-06,\n",
              "       3.30e-06, 2.50e-06, 3.20e-06, 2.40e-06, 2.90e-06, 2.60e-06,\n",
              "       3.10e-06, 3.10e-06, 3.30e-06, 3.50e-06, 3.50e-06, 3.90e-06,\n",
              "       4.80e-06, 5.00e-06, 5.80e-06, 5.00e-06, 5.00e-06, 4.10e-06,\n",
              "       3.90e-06, 3.80e-06, 3.50e-06, 4.10e-06, 3.70e-06, 4.40e-06,\n",
              "       4.10e-06, 4.70e-06, 4.70e-06, 5.00e-06, 5.50e-06, 3.90e-06,\n",
              "       4.60e-06, 2.90e-06, 2.80e-06, 2.50e-06, 2.40e-06, 4.40e-06,\n",
              "       3.30e-06, 5.10e-06, 4.10e-06, 4.50e-06, 4.70e-06, 4.80e-06,\n",
              "       6.90e-06, 4.80e-06, 6.70e-06, 5.20e-06, 5.00e-06, 6.10e-06,\n",
              "       5.90e-06, 1.17e-05, 6.40e-06, 1.15e-05, 6.00e-06, 5.50e-06,\n",
              "       4.90e-06, 4.40e-06, 3.00e-06, 2.70e-06, 2.10e-06, 2.00e-06,\n",
              "       2.40e-06, 2.50e-06, 3.50e-06, 5.60e-06, 4.70e-06, 6.40e-06,\n",
              "       5.20e-06, 5.30e-06, 4.60e-06, 4.30e-06, 5.10e-06, 4.60e-06,\n",
              "       6.90e-06, 6.60e-06, 7.60e-06, 7.40e-06, 7.80e-06, 8.90e-06,\n",
              "       1.00e-05, 1.24e-05, 1.30e-05, 1.46e-05, 1.41e-05, 0.00e+00,\n",
              "       0.00e+00, 0.00e+00, 0.00e+00, 0.00e+00, 0.00e+00, 0.00e+00,\n",
              "       0.00e+00, 0.00e+00, 0.00e+00, 0.00e+00, 0.00e+00, 0.00e+00,\n",
              "       0.00e+00, 0.00e+00, 0.00e+00, 0.00e+00, 0.00e+00, 0.00e+00,\n",
              "       0.00e+00, 0.00e+00, 0.00e+00, 0.00e+00, 0.00e+00, 0.00e+00,\n",
              "       0.00e+00, 0.00e+00, 0.00e+00, 0.00e+00, 0.00e+00, 0.00e+00,\n",
              "...\n",
              "       0.00e+00, 0.00e+00, 0.00e+00, 0.00e+00, 0.00e+00, 0.00e+00,\n",
              "       0.00e+00, 0.00e+00, 0.00e+00, 0.00e+00, 0.00e+00, 0.00e+00,\n",
              "       0.00e+00, 0.00e+00, 0.00e+00, 0.00e+00, 0.00e+00, 0.00e+00,\n",
              "       0.00e+00, 0.00e+00, 0.00e+00, 0.00e+00, 0.00e+00, 0.00e+00,\n",
              "       0.00e+00, 0.00e+00, 0.00e+00, 0.00e+00, 0.00e+00, 0.00e+00,\n",
              "       0.00e+00, 0.00e+00, 0.00e+00, 0.00e+00, 0.00e+00, 0.00e+00,\n",
              "       0.00e+00, 0.00e+00, 0.00e+00, 0.00e+00, 0.00e+00, 0.00e+00,\n",
              "       0.00e+00, 0.00e+00, 0.00e+00, 0.00e+00, 0.00e+00, 0.00e+00,\n",
              "       0.00e+00, 0.00e+00, 0.00e+00, 0.00e+00, 0.00e+00, 0.00e+00,\n",
              "       0.00e+00, 0.00e+00, 0.00e+00, 0.00e+00, 0.00e+00, 0.00e+00,\n",
              "       0.00e+00, 0.00e+00, 0.00e+00, 0.00e+00, 0.00e+00, 0.00e+00,\n",
              "       0.00e+00, 0.00e+00, 0.00e+00, 0.00e+00, 0.00e+00, 0.00e+00,\n",
              "       0.00e+00, 0.00e+00, 0.00e+00, 0.00e+00, 0.00e+00, 0.00e+00,\n",
              "       0.00e+00, 0.00e+00, 0.00e+00, 0.00e+00, 0.00e+00, 0.00e+00,\n",
              "       0.00e+00, 0.00e+00, 0.00e+00, 0.00e+00, 0.00e+00, 0.00e+00,\n",
              "       0.00e+00, 0.00e+00, 0.00e+00, 0.00e+00, 0.00e+00, 0.00e+00,\n",
              "       0.00e+00, 0.00e+00, 0.00e+00, 0.00e+00, 0.00e+00, 0.00e+00,\n",
              "       0.00e+00, 0.00e+00, 0.00e+00, 0.00e+00, 0.00e+00, 0.00e+00,\n",
              "       0.00e+00, 0.00e+00, 0.00e+00, 0.00e+00, 0.00e+00, 0.00e+00,\n",
              "       0.00e+00, 0.00e+00])</pre></div></li><li class='xr-var-item'><div class='xr-var-name'><span>DPSI</span></div><div class='xr-var-dims'>(d0)</div><div class='xr-var-dtype'>float64</div><div class='xr-var-preview xr-preview'>-112.4 -112.5 -112.5 ... 0.0 0.0</div><input id='attrs-0d3186f8-a66f-4a7d-a3a9-7fd4a7f45671' class='xr-var-attrs-in' type='checkbox' disabled><label for='attrs-0d3186f8-a66f-4a7d-a3a9-7fd4a7f45671' title='Show/Hide attributes'><svg class='icon xr-icon-file-text2'><use xlink:href='#icon-file-text2'></use></svg></label><input id='data-6bc88d69-264a-4b93-a510-0d35f5aa8561' class='xr-var-data-in' type='checkbox'><label for='data-6bc88d69-264a-4b93-a510-0d35f5aa8561' title='Show/Hide data repr'><svg class='icon xr-icon-database'><use xlink:href='#icon-database'></use></svg></label><div class='xr-var-attrs'><dl class='xr-attrs'></dl></div><div class='xr-var-data'><pre>array([-112.379, -112.492, -112.482, -112.32 , -112.126, -111.993,\n",
              "       -111.846, -111.543, -111.103, -110.764, -110.787, -111.207,\n",
              "       -111.765, -112.13 , -112.165, -111.97 , -111.691, -111.397,\n",
              "       -111.091, -110.788, -110.541, -110.391, -110.344, -110.365,\n",
              "       -110.409, -110.447, -110.486, -110.566, -110.694, -110.792,\n",
              "       -110.739, -110.483, -110.096, -109.708, -109.392, -109.14 ,\n",
              "       -108.94 , -108.862, -109.   , -109.359, -109.801, -110.091,\n",
              "       -110.055, -109.725, -109.297, -108.956, -108.74 , -108.591,\n",
              "       -108.492, -108.497, -108.614, -108.746, -108.8  , -108.808,\n",
              "       -108.885, -109.08 , -109.331, -109.56 , -109.725, -109.745,\n",
              "       -109.489, -108.941, -108.309, -107.879, -107.771, -107.903,\n",
              "       -108.143, -108.439, -108.776, -109.069, -109.165, -108.98 ,\n",
              "       -108.625, -108.327, -108.156, -108.074, -108.02 , -108.006,\n",
              "       -108.033, -108.003, -107.834, -107.623, -107.564, -107.706,\n",
              "       -107.906, -108.095, -108.37 , -108.692, -108.705, -108.127,\n",
              "       -107.221, -106.594, -106.582, -106.996, -107.446, -107.716,\n",
              "       -107.84 , -107.923, -107.971, -107.878, -107.587, -107.214,\n",
              "       -106.953, -106.891, -106.974, -107.105, -107.195, -107.15 ,\n",
              "       -106.944, -106.711, -106.657, -106.803, -106.94 , -106.964,\n",
              "       -107.083, -107.416, -107.597, -107.151, -106.229, -105.556,\n",
              "...\n",
              "          0.   ,    0.   ,    0.   ,    0.   ,    0.   ,    0.   ,\n",
              "          0.   ,    0.   ,    0.   ,    0.   ,    0.   ,    0.   ,\n",
              "          0.   ,    0.   ,    0.   ,    0.   ,    0.   ,    0.   ,\n",
              "          0.   ,    0.   ,    0.   ,    0.   ,    0.   ,    0.   ,\n",
              "          0.   ,    0.   ,    0.   ,    0.   ,    0.   ,    0.   ,\n",
              "          0.   ,    0.   ,    0.   ,    0.   ,    0.   ,    0.   ,\n",
              "          0.   ,    0.   ,    0.   ,    0.   ,    0.   ,    0.   ,\n",
              "          0.   ,    0.   ,    0.   ,    0.   ,    0.   ,    0.   ,\n",
              "          0.   ,    0.   ,    0.   ,    0.   ,    0.   ,    0.   ,\n",
              "          0.   ,    0.   ,    0.   ,    0.   ,    0.   ,    0.   ,\n",
              "          0.   ,    0.   ,    0.   ,    0.   ,    0.   ,    0.   ,\n",
              "          0.   ,    0.   ,    0.   ,    0.   ,    0.   ,    0.   ,\n",
              "          0.   ,    0.   ,    0.   ,    0.   ,    0.   ,    0.   ,\n",
              "          0.   ,    0.   ,    0.   ,    0.   ,    0.   ,    0.   ,\n",
              "          0.   ,    0.   ,    0.   ,    0.   ,    0.   ,    0.   ,\n",
              "          0.   ,    0.   ,    0.   ,    0.   ,    0.   ,    0.   ,\n",
              "          0.   ,    0.   ,    0.   ,    0.   ,    0.   ,    0.   ,\n",
              "          0.   ,    0.   ,    0.   ,    0.   ,    0.   ,    0.   ,\n",
              "          0.   ,    0.   ,    0.   ,    0.   ,    0.   ,    0.   ,\n",
              "          0.   ,    0.   ])</pre></div></li><li class='xr-var-item'><div class='xr-var-name'><span>DDPSI</span></div><div class='xr-var-dims'>(d0)</div><div class='xr-var-dtype'>float64</div><div class='xr-var-preview xr-preview'>0.174 0.086 0.086 ... 0.0 0.0 0.0</div><input id='attrs-f056299e-535d-4555-82e7-7424a672118e' class='xr-var-attrs-in' type='checkbox' disabled><label for='attrs-f056299e-535d-4555-82e7-7424a672118e' title='Show/Hide attributes'><svg class='icon xr-icon-file-text2'><use xlink:href='#icon-file-text2'></use></svg></label><input id='data-f69933bb-7f6f-412d-874c-6538f48e72f9' class='xr-var-data-in' type='checkbox'><label for='data-f69933bb-7f6f-412d-874c-6538f48e72f9' title='Show/Hide data repr'><svg class='icon xr-icon-database'><use xlink:href='#icon-database'></use></svg></label><div class='xr-var-attrs'><dl class='xr-attrs'></dl></div><div class='xr-var-data'><pre>array([0.174, 0.086, 0.086, 0.086, 0.081, 0.11 , 0.11 , 0.146, 0.293,\n",
              "       0.293, 0.293, 0.431, 0.228, 0.229, 0.18 , 0.18 , 0.18 , 0.18 ,\n",
              "       0.231, 0.45 , 0.45 , 0.45 , 0.434, 0.434, 0.434, 0.424, 0.389,\n",
              "       0.389, 0.206, 0.287, 0.287, 0.287, 0.314, 0.314, 0.505, 0.694,\n",
              "       0.414, 0.414, 0.414, 0.414, 0.362, 0.362, 0.71 , 0.613, 0.613,\n",
              "       0.613, 0.358, 0.573, 0.573, 0.784, 0.895, 0.895, 0.895, 0.964,\n",
              "       0.964, 0.765, 0.521, 0.28 , 0.28 , 0.28 , 0.28 , 0.269, 0.269,\n",
              "       0.305, 0.448, 0.448, 0.448, 0.524, 0.524, 0.488, 0.25 , 0.326,\n",
              "       0.326, 0.326, 0.278, 0.288, 0.297, 0.304, 0.309, 0.313, 0.316,\n",
              "       0.318, 0.319, 0.32 , 0.321, 0.321, 0.321, 0.321, 0.322, 0.322,\n",
              "       0.322, 0.322, 0.322, 0.322, 0.322, 0.322, 0.322, 0.322, 0.322,\n",
              "       0.322, 0.322, 0.322, 0.322, 0.322, 0.322, 0.322, 0.322, 0.322,\n",
              "       0.322, 0.322, 0.322, 0.322, 0.322, 0.322, 0.322, 0.322, 0.322,\n",
              "       0.322, 0.322, 0.322, 0.322, 0.322, 0.322, 0.322, 0.322, 0.322,\n",
              "       0.322, 0.322, 0.322, 0.322, 0.322, 0.322, 0.322, 0.322, 0.322,\n",
              "       0.322, 0.322, 0.322, 0.322, 0.322, 0.322, 0.322, 0.322, 0.322,\n",
              "       0.322, 0.322, 0.322, 0.322, 0.322, 0.322, 0.322, 0.322, 0.322,\n",
              "       0.322, 0.322, 0.322, 0.322, 0.322, 0.322, 0.322, 0.322, 0.322,\n",
              "       0.322, 0.322, 0.   , 0.   , 0.   , 0.   , 0.   , 0.   , 0.   ,\n",
              "       0.   , 0.   , 0.   , 0.   , 0.   , 0.   , 0.   , 0.   , 0.   ,\n",
              "...\n",
              "       0.   , 0.   , 0.   , 0.   , 0.   , 0.   , 0.   , 0.   , 0.   ,\n",
              "       0.   , 0.   , 0.   , 0.   , 0.   , 0.   , 0.   , 0.   , 0.   ,\n",
              "       0.   , 0.   , 0.   , 0.   , 0.   , 0.   , 0.   , 0.   , 0.   ,\n",
              "       0.   , 0.   , 0.   , 0.   , 0.   , 0.   , 0.   , 0.   , 0.   ,\n",
              "       0.   , 0.   , 0.   , 0.   , 0.   , 0.   , 0.   , 0.   , 0.   ,\n",
              "       0.   , 0.   , 0.   , 0.   , 0.   , 0.   , 0.   , 0.   , 0.   ,\n",
              "       0.   , 0.   , 0.   , 0.   , 0.   , 0.   , 0.   , 0.   , 0.   ,\n",
              "       0.   , 0.   , 0.   , 0.   , 0.   , 0.   , 0.   , 0.   , 0.   ,\n",
              "       0.   , 0.   , 0.   , 0.   , 0.   , 0.   , 0.   , 0.   , 0.   ,\n",
              "       0.   , 0.   , 0.   , 0.   , 0.   , 0.   , 0.   , 0.   , 0.   ,\n",
              "       0.   , 0.   , 0.   , 0.   , 0.   , 0.   , 0.   , 0.   , 0.   ,\n",
              "       0.   , 0.   , 0.   , 0.   , 0.   , 0.   , 0.   , 0.   , 0.   ,\n",
              "       0.   , 0.   , 0.   , 0.   , 0.   , 0.   , 0.   , 0.   , 0.   ,\n",
              "       0.   , 0.   , 0.   , 0.   , 0.   , 0.   , 0.   , 0.   , 0.   ,\n",
              "       0.   , 0.   , 0.   , 0.   , 0.   , 0.   , 0.   , 0.   , 0.   ,\n",
              "       0.   , 0.   , 0.   , 0.   , 0.   , 0.   , 0.   , 0.   , 0.   ,\n",
              "       0.   , 0.   , 0.   , 0.   , 0.   , 0.   , 0.   , 0.   , 0.   ,\n",
              "       0.   , 0.   , 0.   , 0.   , 0.   , 0.   , 0.   , 0.   , 0.   ,\n",
              "       0.   , 0.   , 0.   , 0.   , 0.   , 0.   , 0.   , 0.   , 0.   ,\n",
              "       0.   , 0.   ])</pre></div></li><li class='xr-var-item'><div class='xr-var-name'><span>DEPS</span></div><div class='xr-var-dims'>(d0)</div><div class='xr-var-dtype'>float64</div><div class='xr-var-preview xr-preview'>-7.223 -7.307 -7.465 ... 0.0 0.0</div><input id='attrs-260e3c66-df57-4722-bcec-03618fc2bca5' class='xr-var-attrs-in' type='checkbox' disabled><label for='attrs-260e3c66-df57-4722-bcec-03618fc2bca5' title='Show/Hide attributes'><svg class='icon xr-icon-file-text2'><use xlink:href='#icon-file-text2'></use></svg></label><input id='data-b3031f0f-64af-49ba-9b45-476136240fe5' class='xr-var-data-in' type='checkbox'><label for='data-b3031f0f-64af-49ba-9b45-476136240fe5' title='Show/Hide data repr'><svg class='icon xr-icon-database'><use xlink:href='#icon-database'></use></svg></label><div class='xr-var-attrs'><dl class='xr-attrs'></dl></div><div class='xr-var-data'><pre>array([ -7.223,  -7.307,  -7.465,  -7.583,  -7.617,  -7.597,  -7.566,\n",
              "        -7.514,  -7.378,  -7.125,  -6.833,  -6.68 ,  -6.787,  -7.074,\n",
              "        -7.31 ,  -7.34 ,  -7.227,  -7.146,  -7.161,  -7.178,  -7.094,\n",
              "        -6.951,  -6.876,  -6.913,  -6.95 ,  -6.831,  -6.524,  -6.172,\n",
              "        -5.986,  -6.068,  -6.332,  -6.579,  -6.654,  -6.559,  -6.415,\n",
              "        -6.336,  -6.326,  -6.324,  -6.294,  -6.282,  -6.347,  -6.473,\n",
              "        -6.569,  -6.571,  -6.509,  -6.464,  -6.465,  -6.474,  -6.452,\n",
              "        -6.427,  -6.457,  -6.541,  -6.589,  -6.501,  -6.256,  -5.95 ,\n",
              "        -5.743,  -5.769,  -6.044,  -6.427,  -6.684,  -6.667,  -6.446,\n",
              "        -6.238,  -6.195,  -6.28 ,  -6.371,  -6.411,  -6.418,  -6.414,\n",
              "        -6.397,  -6.382,  -6.411,  -6.496,  -6.598,  -6.657,  -6.666,\n",
              "        -6.693,  -6.789,  -6.917,  -6.994,  -6.98 ,  -6.901,  -6.8  ,\n",
              "        -6.7  ,  -6.663,  -6.817,  -7.216,  -7.674,  -7.865,  -7.669,\n",
              "        -7.321,  -7.135,  -7.173,  -7.28 ,  -7.348,  -7.394,  -7.447,\n",
              "        -7.489,  -7.523,  -7.6  ,  -7.74 ,  -7.862,  -7.86 ,  -7.745,\n",
              "        -7.654,  -7.695,  -7.834,  -7.961,  -8.041,  -8.137,  -8.275,\n",
              "        -8.369,  -8.352,  -8.357,  -8.615,  -9.106,  -9.467,  -9.392,\n",
              "        -9.024,  -8.756,  -8.748,  -8.845,  -8.912,  -8.999,  -9.161,\n",
              "        -9.316,  -9.369,  -9.35 ,  -9.341,  -9.326,  -9.207,  -8.969,\n",
              "        -8.76 ,  -8.74 ,  -8.908,  -9.129,  -9.313,  -9.499,  -9.735,\n",
              "...\n",
              "         0.   ,   0.   ,   0.   ,   0.   ,   0.   ,   0.   ,   0.   ,\n",
              "         0.   ,   0.   ,   0.   ,   0.   ,   0.   ,   0.   ,   0.   ,\n",
              "         0.   ,   0.   ,   0.   ,   0.   ,   0.   ,   0.   ,   0.   ,\n",
              "         0.   ,   0.   ,   0.   ,   0.   ,   0.   ,   0.   ,   0.   ,\n",
              "         0.   ,   0.   ,   0.   ,   0.   ,   0.   ,   0.   ,   0.   ,\n",
              "         0.   ,   0.   ,   0.   ,   0.   ,   0.   ,   0.   ,   0.   ,\n",
              "         0.   ,   0.   ,   0.   ,   0.   ,   0.   ,   0.   ,   0.   ,\n",
              "         0.   ,   0.   ,   0.   ,   0.   ,   0.   ,   0.   ,   0.   ,\n",
              "         0.   ,   0.   ,   0.   ,   0.   ,   0.   ,   0.   ,   0.   ,\n",
              "         0.   ,   0.   ,   0.   ,   0.   ,   0.   ,   0.   ,   0.   ,\n",
              "         0.   ,   0.   ,   0.   ,   0.   ,   0.   ,   0.   ,   0.   ,\n",
              "         0.   ,   0.   ,   0.   ,   0.   ,   0.   ,   0.   ,   0.   ,\n",
              "         0.   ,   0.   ,   0.   ,   0.   ,   0.   ,   0.   ,   0.   ,\n",
              "         0.   ,   0.   ,   0.   ,   0.   ,   0.   ,   0.   ,   0.   ,\n",
              "         0.   ,   0.   ,   0.   ,   0.   ,   0.   ,   0.   ,   0.   ,\n",
              "         0.   ,   0.   ,   0.   ,   0.   ,   0.   ,   0.   ,   0.   ,\n",
              "         0.   ,   0.   ,   0.   ,   0.   ,   0.   ,   0.   ,   0.   ,\n",
              "         0.   ,   0.   ,   0.   ,   0.   ,   0.   ,   0.   ,   0.   ,\n",
              "         0.   ,   0.   ,   0.   ,   0.   ,   0.   ,   0.   ,   0.   ,\n",
              "         0.   ])</pre></div></li><li class='xr-var-item'><div class='xr-var-name'><span>DDEPS</span></div><div class='xr-var-dims'>(d0)</div><div class='xr-var-dtype'>float64</div><div class='xr-var-preview xr-preview'>0.183 0.26 0.26 ... 0.0 0.0 0.0</div><input id='attrs-a1953684-f229-4e91-9455-1f9c101f95cc' class='xr-var-attrs-in' type='checkbox' disabled><label for='attrs-a1953684-f229-4e91-9455-1f9c101f95cc' title='Show/Hide attributes'><svg class='icon xr-icon-file-text2'><use xlink:href='#icon-file-text2'></use></svg></label><input id='data-87cecc32-81ef-497e-86f2-3fb3cb8e293e' class='xr-var-data-in' type='checkbox'><label for='data-87cecc32-81ef-497e-86f2-3fb3cb8e293e' title='Show/Hide data repr'><svg class='icon xr-icon-database'><use xlink:href='#icon-database'></use></svg></label><div class='xr-var-attrs'><dl class='xr-attrs'></dl></div><div class='xr-var-data'><pre>array([0.183, 0.26 , 0.26 , 0.26 , 0.272, 0.215, 0.215, 0.134, 0.16 ,\n",
              "       0.16 , 0.16 , 0.187, 0.222, 0.183, 0.182, 0.182, 0.182, 0.182,\n",
              "       0.083, 0.109, 0.109, 0.109, 0.082, 0.082, 0.082, 0.058, 0.108,\n",
              "       0.108, 0.181, 0.111, 0.111, 0.111, 0.059, 0.059, 0.147, 0.2  ,\n",
              "       0.129, 0.129, 0.129, 0.129, 0.042, 0.042, 0.08 , 0.152, 0.152,\n",
              "       0.152, 0.22 , 0.162, 0.162, 0.039, 0.097, 0.097, 0.097, 0.123,\n",
              "       0.123, 0.122, 0.12 , 0.079, 0.079, 0.079, 0.079, 0.065, 0.065,\n",
              "       0.064, 0.072, 0.072, 0.072, 0.078, 0.078, 0.081, 0.09 , 0.078,\n",
              "       0.078, 0.078, 0.145, 0.148, 0.151, 0.154, 0.155, 0.157, 0.158,\n",
              "       0.158, 0.159, 0.159, 0.16 , 0.16 , 0.16 , 0.16 , 0.16 , 0.16 ,\n",
              "       0.16 , 0.16 , 0.16 , 0.16 , 0.16 , 0.16 , 0.16 , 0.16 , 0.16 ,\n",
              "       0.16 , 0.16 , 0.16 , 0.16 , 0.16 , 0.16 , 0.16 , 0.16 , 0.16 ,\n",
              "       0.16 , 0.16 , 0.16 , 0.16 , 0.16 , 0.16 , 0.16 , 0.16 , 0.16 ,\n",
              "       0.16 , 0.16 , 0.16 , 0.16 , 0.16 , 0.16 , 0.16 , 0.16 , 0.16 ,\n",
              "       0.16 , 0.16 , 0.16 , 0.16 , 0.16 , 0.16 , 0.16 , 0.16 , 0.16 ,\n",
              "       0.16 , 0.16 , 0.16 , 0.16 , 0.16 , 0.16 , 0.16 , 0.16 , 0.16 ,\n",
              "       0.16 , 0.16 , 0.16 , 0.16 , 0.16 , 0.16 , 0.16 , 0.16 , 0.16 ,\n",
              "       0.16 , 0.16 , 0.16 , 0.16 , 0.16 , 0.16 , 0.16 , 0.16 , 0.16 ,\n",
              "       0.16 , 0.16 , 0.   , 0.   , 0.   , 0.   , 0.   , 0.   , 0.   ,\n",
              "       0.   , 0.   , 0.   , 0.   , 0.   , 0.   , 0.   , 0.   , 0.   ,\n",
              "...\n",
              "       0.   , 0.   , 0.   , 0.   , 0.   , 0.   , 0.   , 0.   , 0.   ,\n",
              "       0.   , 0.   , 0.   , 0.   , 0.   , 0.   , 0.   , 0.   , 0.   ,\n",
              "       0.   , 0.   , 0.   , 0.   , 0.   , 0.   , 0.   , 0.   , 0.   ,\n",
              "       0.   , 0.   , 0.   , 0.   , 0.   , 0.   , 0.   , 0.   , 0.   ,\n",
              "       0.   , 0.   , 0.   , 0.   , 0.   , 0.   , 0.   , 0.   , 0.   ,\n",
              "       0.   , 0.   , 0.   , 0.   , 0.   , 0.   , 0.   , 0.   , 0.   ,\n",
              "       0.   , 0.   , 0.   , 0.   , 0.   , 0.   , 0.   , 0.   , 0.   ,\n",
              "       0.   , 0.   , 0.   , 0.   , 0.   , 0.   , 0.   , 0.   , 0.   ,\n",
              "       0.   , 0.   , 0.   , 0.   , 0.   , 0.   , 0.   , 0.   , 0.   ,\n",
              "       0.   , 0.   , 0.   , 0.   , 0.   , 0.   , 0.   , 0.   , 0.   ,\n",
              "       0.   , 0.   , 0.   , 0.   , 0.   , 0.   , 0.   , 0.   , 0.   ,\n",
              "       0.   , 0.   , 0.   , 0.   , 0.   , 0.   , 0.   , 0.   , 0.   ,\n",
              "       0.   , 0.   , 0.   , 0.   , 0.   , 0.   , 0.   , 0.   , 0.   ,\n",
              "       0.   , 0.   , 0.   , 0.   , 0.   , 0.   , 0.   , 0.   , 0.   ,\n",
              "       0.   , 0.   , 0.   , 0.   , 0.   , 0.   , 0.   , 0.   , 0.   ,\n",
              "       0.   , 0.   , 0.   , 0.   , 0.   , 0.   , 0.   , 0.   , 0.   ,\n",
              "       0.   , 0.   , 0.   , 0.   , 0.   , 0.   , 0.   , 0.   , 0.   ,\n",
              "       0.   , 0.   , 0.   , 0.   , 0.   , 0.   , 0.   , 0.   , 0.   ,\n",
              "       0.   , 0.   , 0.   , 0.   , 0.   , 0.   , 0.   , 0.   , 0.   ,\n",
              "       0.   , 0.   ])</pre></div></li></ul></div></li><li class='xr-section-item'><input id='section-81825980-f65d-4302-a8f8-da8a87dd2194' class='xr-section-summary-in' type='checkbox'  ><label for='section-81825980-f65d-4302-a8f8-da8a87dd2194' class='xr-section-summary' >Attributes: <span>(20)</span></label><div class='xr-section-inline-details'></div><div class='xr-section-details'><dl class='xr-attrs'><dt><span>vs_create :</span></dt><dd>2020/02/10/03:00</dd><dt><span>vs_date :</span></dt><dd>2021/08/04/15:00</dd><dt><span>vs_version :</span></dt><dd>0623.0541</dd><dt><span>vs_type :</span></dt><dd>IERS Earth Orientation Data predicted from NEOS</dd><dt><span>tab_version :</span></dt><dd>0002.0000</dd><dt><span>mjd0 :</span></dt><dd>58798.0</dd><dt><span>dmjd :</span></dt><dd>1.0</dd><dt><span>mjd_unit :</span></dt><dd>d</dd><dt><span>x_unit :</span></dt><dd>arcsec</dd><dt><span>dx_unit :</span></dt><dd>arcsec</dd><dt><span>y_unit :</span></dt><dd>arcsec</dd><dt><span>dy_unit :</span></dt><dd>arcsec</dd><dt><span>dut1_unit :</span></dt><dd>s</dd><dt><span>ddut1_unit :</span></dt><dd>s</dd><dt><span>lod_unit :</span></dt><dd>s</dd><dt><span>dlod_unit :</span></dt><dd>s</dd><dt><span>dpsi_unit :</span></dt><dd>arcsec</dd><dt><span>ddpsi_unit :</span></dt><dd>arcsec</dd><dt><span>deps_unit :</span></dt><dd>arcsec</dd><dt><span>ddeps_unit :</span></dt><dd>arcsec</dd></dl></div></li></ul></div></div>"
            ],
            "text/plain": [
              "<xarray.Dataset>\n",
              "Dimensions:  (d0: 722)\n",
              "Dimensions without coordinates: d0\n",
              "Data variables: (12/13)\n",
              "    MJD      (d0) float64 5.88e+04 5.88e+04 5.88e+04 ... 5.952e+04 5.952e+04\n",
              "    X        (d0) float64 0.1556 0.1544 0.1532 0.1521 ... 0.1742 0.1733 0.1718\n",
              "    DX       (d0) float64 1.9e-05 3e-05 3e-05 ... 0.007916 0.008175 0.007888\n",
              "    Y        (d0) float64 0.275 0.275 0.275 0.275 ... 0.2528 0.2528 0.251 0.2493\n",
              "    DY       (d0) float64 2.1e-05 2.4e-05 2.6e-05 ... 0.0106 0.01041 0.01058\n",
              "    DUT1     (d0) float64 -0.1629 -0.1634 -0.1639 ... -0.1266 -0.1274 -0.1279\n",
              "    ...       ...\n",
              "    LOD      (d0) float64 0.0005854 0.0004804 0.0003702 ... 0.0 0.0 0.0\n",
              "    DLOD     (d0) float64 2.7e-06 4.3e-06 3e-06 3.3e-06 ... 0.0 0.0 0.0 0.0\n",
              "    DPSI     (d0) float64 -112.4 -112.5 -112.5 -112.3 -112.1 ... 0.0 0.0 0.0 0.0\n",
              "    DDPSI    (d0) float64 0.174 0.086 0.086 0.086 0.081 ... 0.0 0.0 0.0 0.0 0.0\n",
              "    DEPS     (d0) float64 -7.223 -7.307 -7.465 -7.583 -7.617 ... 0.0 0.0 0.0 0.0\n",
              "    DDEPS    (d0) float64 0.183 0.26 0.26 0.26 0.272 ... 0.0 0.0 0.0 0.0 0.0\n",
              "Attributes: (12/20)\n",
              "    vs_create:    2020/02/10/03:00\n",
              "    vs_date:      2021/08/04/15:00\n",
              "    vs_version:   0623.0541\n",
              "    vs_type:      IERS Earth Orientation Data predicted from NEOS\n",
              "    tab_version:  0002.0000\n",
              "    mjd0:         58798.0\n",
              "    ...           ...\n",
              "    lod_unit:     s\n",
              "    dlod_unit:    s\n",
              "    dpsi_unit:    arcsec\n",
              "    ddpsi_unit:   arcsec\n",
              "    deps_unit:    arcsec\n",
              "    ddeps_unit:   arcsec"
            ]
          },
          "metadata": {
            "tags": []
          },
          "execution_count": 8
        }
      ]
    },
    {
      "cell_type": "code",
      "metadata": {
        "colab": {
          "base_uri": "https://localhost:8080/",
          "height": 296
        },
        "id": "hYyFqj3ZhXGo",
        "outputId": "15906650-0fb5-4394-c29d-f20699e4b908"
      },
      "source": [
        "xds.DX.plot()"
      ],
      "execution_count": 9,
      "outputs": [
        {
          "output_type": "execute_result",
          "data": {
            "text/plain": [
              "[<matplotlib.lines.Line2D at 0x7f0525a0b290>]"
            ]
          },
          "metadata": {
            "tags": []
          },
          "execution_count": 9
        },
        {
          "output_type": "display_data",
          "data": {
            "image/png": "[encoded data removed]",
            "text/plain": [
              "<Figure size 432x288 with 1 Axes>"
            ]
          },
          "metadata": {
            "tags": [],
            "needs_background": "light"
          }
        }
      ]
    },
    {
      "cell_type": "code",
      "metadata": {
        "colab": {
          "base_uri": "https://localhost:8080/",
          "height": 296
        },
        "id": "FmvXmCVfhbjn",
        "outputId": "ebcfdb8b-110d-4a66-aac4-1835b35850a8"
      },
      "source": [
        "xds.plot.scatter('X','DX')"
      ],
      "execution_count": 10,
      "outputs": [
        {
          "output_type": "execute_result",
          "data": {
            "text/plain": [
              "<matplotlib.collections.PathCollection at 0x7f051ba86390>"
            ]
          },
          "metadata": {
            "tags": []
          },
          "execution_count": 10
        },
        {
          "output_type": "display_data",
          "data": {
            "image/png": "[encoded data removed]",
            "text/plain": [
              "<Figure size 432x288 with 1 Axes>"
            ]
          },
          "metadata": {
            "tags": [],
            "needs_background": "light"
          }
        }
      ]
    },
    {
      "cell_type": "code",
      "metadata": {
        "colab": {
          "base_uri": "https://localhost:8080/",
          "height": 298
        },
        "id": "-urm71tJhkDD",
        "outputId": "7bfe671b-8f6a-42e9-95d0-2e720e3299f7"
      },
      "source": [
        "xds.plot.scatter('MJD','DUT1')"
      ],
      "execution_count": 11,
      "outputs": [
        {
          "output_type": "execute_result",
          "data": {
            "text/plain": [
              "<matplotlib.collections.PathCollection at 0x7f051bf0e510>"
            ]
          },
          "metadata": {
            "tags": []
          },
          "execution_count": 11
        },
        {
          "output_type": "display_data",
          "data": {
            "image/png": "[encoded data removed]",
            "text/plain": [
              "<Figure size 432x288 with 1 Axes>"
            ]
          },
          "metadata": {
            "tags": [],
            "needs_background": "light"
          }
        }
      ]
    },
    {
      "cell_type": "markdown",
      "metadata": {
        "id": "DrKqTJm0gnz1"
      },
      "source": [
        "Compare an older version to the latest version"
      ]
    },
    {
      "cell_type": "code",
      "metadata": {
        "colab": {
          "base_uri": "https://localhost:8080/"
        },
        "id": "_QSFEwHVenNR",
        "outputId": "56e13792-1be2-438f-e4c5-97d3cf1aa8f7"
      },
      "source": [
        "casadata.measures_update('data2', version=versions[0])\n",
        "xds2 = casadata.table_open('data2/geodetic/IERSpredict')"
      ],
      "execution_count": 12,
      "outputs": [
        {
          "output_type": "stream",
          "text": [
            "connecting to ftp.astron.nl ...\n",
            "downloading data from ASTRON server ...\n"
          ],
          "name": "stdout"
        }
      ]
    },
    {
      "cell_type": "code",
      "metadata": {
        "colab": {
          "base_uri": "https://localhost:8080/",
          "height": 296
        },
        "id": "_fYFd6CXeuhN",
        "outputId": "eabaa7eb-2816-44e5-fa9e-7b31a5095f29"
      },
      "source": [
        "xds.DX[200:].plot()\n",
        "xds2.DX[200:].plot()"
      ],
      "execution_count": 13,
      "outputs": [
        {
          "output_type": "execute_result",
          "data": {
            "text/plain": [
              "[<matplotlib.lines.Line2D at 0x7f051b8d7950>]"
            ]
          },
          "metadata": {
            "tags": []
          },
          "execution_count": 13
        },
        {
          "output_type": "display_data",
          "data": {
            "image/png": "[encoded data removed]",
            "text/plain": [
              "<Figure size 432x288 with 1 Axes>"
            ]
          },
          "metadata": {
            "tags": [],
            "needs_background": "light"
          }
        }
      ]
    }
  ]
}