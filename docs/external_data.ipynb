{
  "nbformat": 4,
  "nbformat_minor": 0,
  "metadata": {
    "colab": {
      "name": "external-data.ipynb",
      "provenance": [],
      "collapsed_sections": [],
      "toc_visible": true
    },
    "kernelspec": {
      "display_name": "Python 3",
      "language": "python",
      "name": "python3"
    },
    "language_info": {
      "codemirror_mode": {
        "name": "ipython",
        "version": 3
      },
      "file_extension": ".py",
      "mimetype": "text/x-python",
      "name": "python",
      "nbconvert_exporter": "python",
      "pygments_lexer": "ipython3",
      "version": "3.8.3"
    }
  },
  "cells": [
    {
      "cell_type": "code",
      "metadata": {
        "id": "quxF3XUv8RGx"
      },
      "source": [
        "# this page contains live examples of casa usage from the following installation\n",
        "!pip install casaconfig==0.0.26  > /dev/null\n",
        "!pip install python-casacore==3.4.0 >/dev/null"
      ],
      "execution_count": 1,
      "outputs": []
    },
    {
      "cell_type": "markdown",
      "metadata": {
        "id": "opyy0g0TPNzF"
      },
      "source": [
        "# External Data\n",
        "\n",
        "Each CASA distribution requires a runtime configuration and minimal repository of binary data for CASA to function properly. This is contained in the [**casaconfig repository**](https://github.com/casangi/casaconfig) and bundled in to a [**casaconfig package**](https://pypi.org/project/casaconfig/) for modular CASA. The repository includes Measures Tables that deal with the Earth Orientation Parameters (EOPs), ephemeris data, antenna configurations, beam models, and calibration corrections, along with a default configuration file that properly sets up and maintains the data repository contents.\n",
        "\n",
        "By default, **CASA maintains this system automatically**, placing small daily updates of measures data in the users ~/.casa/ directory.  Users with custom ~/.casa/config.py files may modify or disable this functionality.\n",
        "\n",
        "<div class=\"alert alert-warning\"> \n",
        "Warning\n",
        "\n",
        "CASA now uses a single config.py to specify its entire configuration. Users must ensure their ~/.casa/config.py is up-to-date (see section on Default Configuration) or delete it to utilize default functionality from casaconfig. Old config.py files **will not work.**\n",
        "</div>\n",
        "\n",
        "The following figure depicts a high level view of the external data management system, including the casaconfig Github repository, modular pip package and installation, monolothic tarball and installation, and ASTRON ftp server.\n",
        "\n",
        "![casaconfigsystem](https://github.com/casangi/casadocs/blob/master/docs/notebooks/media/casaconfig_system.png?raw=1)\n",
        "\n",
        "\n",
        "The following sections illustrate how to manually manipulate data contents. By default, CASA will generally handle this automatically unless the user overrides the settings with their own ~/casa/config.py file.\n",
        "\n"
      ]
    },
    {
      "cell_type": "markdown",
      "metadata": {
        "id": "ZNn9HVDZ5hzZ"
      },
      "source": [
        "## Locating the Data Directory\n",
        "\n",
        "The casaconfig package contains an internal ```__data__``` subdirectory to hold the repository tables.\n"
      ]
    },
    {
      "cell_type": "code",
      "metadata": {
        "colab": {
          "base_uri": "https://localhost:8080/"
        },
        "id": "qGSIqBtl77rC",
        "outputId": "c733f16e-7762-4549-a4bc-19860819d326"
      },
      "source": [
        "# get the location of the data directory within the installation package\n",
        "from casaconfig import get_data_dir\n",
        "print(get_data_dir())"
      ],
      "execution_count": 2,
      "outputs": [
        {
          "output_type": "stream",
          "name": "stdout",
          "text": [
            "/usr/local/lib/python3.7/dist-packages/casaconfig/__data__/\n"
          ]
        }
      ]
    },
    {
      "cell_type": "code",
      "metadata": {
        "colab": {
          "base_uri": "https://localhost:8080/"
        },
        "id": "omjQe3yC92Bx",
        "outputId": "345934c4-5961-44ab-d330-a818e19d98b2"
      },
      "source": [
        "# see what's in it\n",
        "!ls /usr/local/lib/python3.7/dist-packages/casaconfig/__data__/"
      ],
      "execution_count": 3,
      "outputs": [
        {
          "output_type": "stream",
          "name": "stdout",
          "text": [
            "README.txt\n"
          ]
        }
      ]
    },
    {
      "cell_type": "markdown",
      "metadata": {
        "id": "pxjbmbO1-s8j"
      },
      "source": [
        "The initial installation of the casaconfig package leaves the ```__data__``` folder empty.  This is because the data tables are quite large and not suitable for Python package distribution. The ```__data__``` folder must be populated after installation (not necessary with monolithic casa tarball which already has the data populated)."
      ]
    },
    {
      "cell_type": "code",
      "metadata": {
        "colab": {
          "base_uri": "https://localhost:8080/"
        },
        "id": "_Qj5LjFK_Ow0",
        "outputId": "29f1d4fb-6410-4c4a-c49e-a3c511e36470"
      },
      "source": [
        "# populate the installation __data__ folder\n",
        "from casaconfig import pull_data\n",
        "pull_data()\n",
        "\n",
        "!ls /usr/local/lib/python3.7/dist-packages/casaconfig/__data__/"
      ],
      "execution_count": 4,
      "outputs": [
        {
          "output_type": "stream",
          "name": "stdout",
          "text": [
            "casaconfig downloading data contents to /usr/local/lib/python3.7/dist-packages/casaconfig/__data__/ ...\n",
            "alma\t  demo\t       ephemerides  gui   README.txt\n",
            "catalogs  dish_models  geodetic     nrao  telescope_layout\n"
          ]
        }
      ]
    },
    {
      "cell_type": "code",
      "metadata": {
        "colab": {
          "base_uri": "https://localhost:8080/"
        },
        "id": "hJDIRVNpExxE",
        "outputId": "8015edfe-df15-4cdd-d909-c92acf7f1644"
      },
      "source": [
        "# populate some custom location with the data folder contents\n",
        "pull_data('./casadata')\n",
        "\n",
        "!ls ./casadata"
      ],
      "execution_count": 5,
      "outputs": [
        {
          "output_type": "stream",
          "name": "stdout",
          "text": [
            "casaconfig downloading data contents to ./casadata ...\n",
            "alma\t  demo\t       ephemerides  gui   telescope_layout\n",
            "catalogs  dish_models  geodetic     nrao\n"
          ]
        }
      ]
    },
    {
      "cell_type": "markdown",
      "metadata": {
        "id": "LC_zralMLSwO"
      },
      "source": [
        "<div class=\"alert alert-warning\">\n",
        "**WARNING**: If you are using python-casacore directly (outside of CASA), you will need to set your .casarc file to point to wherever you installed casaconfig and/or populated a data folder\n",
        "</div>"
      ]
    },
    {
      "cell_type": "code",
      "metadata": {
        "colab": {
          "base_uri": "https://localhost:8080/"
        },
        "id": "NrhL8RgGLidD",
        "outputId": "7a2ac172-f2ef-4030-fdbd-d163d7d5709a"
      },
      "source": [
        "# tell casacore where to find casaconfig\n",
        "from casaconfig import set_casacore_path\n",
        "data_path = get_data_dir()\n",
        "set_casacore_path(data_path)\n",
        "\n",
        "!more ~/.casarc"
      ],
      "execution_count": 6,
      "outputs": [
        {
          "output_type": "stream",
          "name": "stdout",
          "text": [
            "writing /root/.casarc...\n",
            "measures.directory: /usr/local/lib/python3.7/dist-packages/casaconfig/__data__\n"
          ]
        }
      ]
    },
    {
      "cell_type": "markdown",
      "metadata": {
        "id": "oNpBcSWx1f-a"
      },
      "source": [
        "## Updating the Data Directory\n",
        "\n",
        "Most of the data tables (such as beam models, antenna and Jy/K correction tables, and the antenna configuration files for the CASA simulator) are versioned by CASA release and do not need to change. However, the **Casacore Measures** tables (ie *geodetic* subdirectory) must be updated frequently after release.\n",
        "\n",
        "It is important to know what version/date of Measures data is currently populated. This can be done by examining the *readme.txt* file in the geodetic subdirectory."
      ]
    },
    {
      "cell_type": "code",
      "metadata": {
        "colab": {
          "base_uri": "https://localhost:8080/"
        },
        "id": "kPRpxlP29h_i",
        "outputId": "8d73ce64-bca7-48d0-b5d0-956b341387b1"
      },
      "source": [
        "!cat /usr/local/lib/python3.7/dist-packages/casaconfig/__data__/geodetic/readme.txt"
      ],
      "execution_count": 7,
      "outputs": [
        {
          "output_type": "stream",
          "name": "stdout",
          "text": [
            "# measures data populated by casaconfig\n",
            "version : WSRT_Measures_20211102-160001.ztar\n",
            "date : 2021-11-02"
          ]
        }
      ]
    },
    {
      "cell_type": "markdown",
      "metadata": {
        "id": "SpJ676i89ieR"
      },
      "source": [
        "Alternatively, the IERSPredict table has a version field (requires python-casacore also be installed)."
      ]
    },
    {
      "cell_type": "code",
      "metadata": {
        "colab": {
          "base_uri": "https://localhost:8080/"
        },
        "id": "PHskU7QYJY-6",
        "outputId": "b0d8a68d-0423-40af-a0af-7cb906189fbc"
      },
      "source": [
        "# view the current measures data date\n",
        "from casaconfig import table_open\n",
        "xds = table_open('/usr/local/lib/python3.7/dist-packages/casaconfig/__data__/geodetic/IERSpredict')\n",
        "\n",
        "print(xds.attrs['vs_date'])"
      ],
      "execution_count": 8,
      "outputs": [
        {
          "output_type": "stream",
          "name": "stdout",
          "text": [
            "2021/11/02/15:00\n"
          ]
        }
      ]
    },
    {
      "cell_type": "markdown",
      "metadata": {
        "id": "xSofTnU7_KdF"
      },
      "source": [
        "The ```measures_update()``` function is used to download new measures data from the originating source. By default, this function will retrieve the latest data.  If you already have the latest data, then nothing will happen."
      ]
    },
    {
      "cell_type": "code",
      "metadata": {
        "colab": {
          "base_uri": "https://localhost:8080/"
        },
        "id": "UPi_xwWLNF1m",
        "outputId": "ffa6f9a2-7209-429a-cd12-f7da95308e67"
      },
      "source": [
        "from casaconfig import measures_update\n",
        "measures_update()\n",
        "!cat /usr/local/lib/python3.7/dist-packages/casaconfig/__data__/geodetic/readme.txt"
      ],
      "execution_count": 9,
      "outputs": [
        {
          "output_type": "stream",
          "name": "stdout",
          "text": [
            "casaconfig connecting to ftp.astron.nl ...\n",
            "casaconfig downloading WSRT_Measures_20220308-160001.ztar from ASTRON server to /usr/local/lib/python3.7/dist-packages/casaconfig/__data__/ ...\n",
            "# measures data populated by casaconfig\n",
            "version : WSRT_Measures_20220308-160001.ztar\n",
            "date : 2022-03-08"
          ]
        }
      ]
    },
    {
      "cell_type": "markdown",
      "metadata": {
        "id": "ZfA2Yi7e-70d"
      },
      "source": [
        "Specific versions of past measures data can be retrieved as well. This may be important if trying to exactly replicate the conditions of a particular data reduction run in CASA.  Generally though the measures data is appended with time, so past and current versions should have the same values at the same points in time (see later section of casacore measures data contents)."
      ]
    },
    {
      "cell_type": "code",
      "metadata": {
        "colab": {
          "base_uri": "https://localhost:8080/"
        },
        "id": "3IW0yLb3JJ_F",
        "outputId": "5ba6e8ea-644d-4a5c-eccb-a0e17f00af8a"
      },
      "source": [
        "# see if something newer is available\n",
        "from casaconfig import measures_available\n",
        "versions = measures_available()\n",
        "\n",
        "print(versions[-3:])"
      ],
      "execution_count": 10,
      "outputs": [
        {
          "output_type": "stream",
          "name": "stdout",
          "text": [
            "['WSRT_Measures_20220306-160001.ztar', 'WSRT_Measures_20220307-160001.ztar', 'WSRT_Measures_20220308-160001.ztar']\n"
          ]
        }
      ]
    },
    {
      "cell_type": "code",
      "metadata": {
        "colab": {
          "base_uri": "https://localhost:8080/"
        },
        "id": "l6DNGCAgANJO",
        "outputId": "c5b900c3-5123-44bb-d81e-ae748cc909be"
      },
      "source": [
        "# retrieve a version from a while back\n",
        "measures_update(version=versions[-10], force=True)\n",
        "!cat /usr/local/lib/python3.7/dist-packages/casaconfig/__data__/geodetic/readme.txt"
      ],
      "execution_count": 11,
      "outputs": [
        {
          "output_type": "stream",
          "name": "stdout",
          "text": [
            "casaconfig connecting to ftp.astron.nl ...\n",
            "casaconfig downloading WSRT_Measures_20220227-160001.ztar from ASTRON server to /usr/local/lib/python3.7/dist-packages/casaconfig/__data__/ ...\n",
            "# measures data populated by casaconfig\n",
            "version : WSRT_Measures_20220227-160001.ztar\n",
            "date : 2022-03-08"
          ]
        }
      ]
    },
    {
      "cell_type": "markdown",
      "metadata": {
        "id": "5lZ1JhxThtbL"
      },
      "source": [
        "## Split Data Locations\n",
        "\n",
        "Often times with site installations of CASA, it is convenient to leave a bulk of the data contents in a single shared location that is write-protected.  At runtime, users can pull the latest Measures data (small) to their local CASA working directory.  This scheme gives users complete control over what version / update frequency of Measures data they prefer without the inefficiency of storing copies of the complete casaconfig data contents for every user.\n",
        "\n",
        "To make use of this, we need to split the location of the measures data (i.e. geodetic folder) from the rest of the casaconfig data contents.  Let's assume we've configured CASA to look for data in two locations: \n",
        "\n",
        "1. The default casaconfig package installation location\n",
        "2. A local folder in each users home directory (```./my_local_data```) "
      ]
    },
    {
      "cell_type": "code",
      "metadata": {
        "colab": {
          "base_uri": "https://localhost:8080/"
        },
        "id": "_asI--NtkYMS",
        "outputId": "8837847c-698d-4ef0-f492-6707d9781d24"
      },
      "source": [
        "# SYSTEM ADMIN - one-time setup of the package installation folder\n",
        "from casaconfig import pull_data\n",
        "pull_data()"
      ],
      "execution_count": 12,
      "outputs": [
        {
          "output_type": "stream",
          "name": "stdout",
          "text": [
            "casaconfig found populated data folder /usr/local/lib/python3.7/dist-packages/casaconfig/__data__/\n"
          ]
        }
      ]
    },
    {
      "cell_type": "code",
      "metadata": {
        "colab": {
          "base_uri": "https://localhost:8080/"
        },
        "id": "zIjALvOZkti3",
        "outputId": "f787a6a9-3b2d-4f26-aa5b-577d0721a069"
      },
      "source": [
        "# USERS - every time you run CASA\n",
        "from casaconfig import measures_update\n",
        "measures_update('./my_local_data')"
      ],
      "execution_count": 13,
      "outputs": [
        {
          "output_type": "stream",
          "name": "stdout",
          "text": [
            "casaconfig connecting to ftp.astron.nl ...\n",
            "casaconfig downloading WSRT_Measures_20220308-160001.ztar from ASTRON server to ./my_local_data ...\n"
          ]
        }
      ]
    },
    {
      "cell_type": "markdown",
      "metadata": {
        "id": "IGVK8dvQDywx"
      },
      "source": [
        "Now we have the large static data stored with the package installation, and the small measures data stored in a user writeable location for regular updates."
      ]
    },
    {
      "cell_type": "code",
      "metadata": {
        "colab": {
          "base_uri": "https://localhost:8080/"
        },
        "id": "wM1dEWCalU23",
        "outputId": "0f260e8f-36fb-4525-9653-dbaff58f8a85"
      },
      "source": [
        "!du -h -d 0 /usr/local/lib/python3.7/dist-packages/casaconfig/__data__\n",
        "!du -h -d 0 ./my_local_data"
      ],
      "execution_count": 14,
      "outputs": [
        {
          "output_type": "stream",
          "name": "stdout",
          "text": [
            "543M\t/usr/local/lib/python3.7/dist-packages/casaconfig/__data__\n",
            "26M\t./my_local_data\n"
          ]
        }
      ]
    },
    {
      "cell_type": "markdown",
      "metadata": {
        "id": "vjAMRIbL4zZz"
      },
      "source": [
        "## Default Configuration"
      ]
    },
    {
      "cell_type": "markdown",
      "metadata": {
        "id": "iJLUJODR2iXb"
      },
      "source": [
        "A default configuration file is included in casaconfig that sets up split data locations (as described in the preceding section), and automatically updates the measures data each time CASA is run.  This file can be retrieved and saved to the users home directory. From there, users can modify as desired to change default values, print/log additional information, etc.\n"
      ]
    },
    {
      "cell_type": "code",
      "metadata": {
        "colab": {
          "base_uri": "https://localhost:8080/"
        },
        "id": "dRW8lj4tGVr6",
        "outputId": "d8ff5ae1-87cb-4929-e509-176a245db4c8"
      },
      "source": [
        "from casaconfig import write_default_config\n",
        "\n",
        "write_default_config('~/.casa/config.py')\n",
        "\n",
        "!cat ~/.casa/config.py"
      ],
      "execution_count": 15,
      "outputs": [
        {
          "output_type": "stream",
          "name": "stdout",
          "text": [
            "writing /root/.casa/config.py\n",
            "import os, time, pkg_resources\n",
            "\n",
            "# list of paths where CASA should search for data subdirectories\n",
            "datapath = [pkg_resources.resource_filename('casaconfig', '__data__/')]\n",
            "\n",
            "# location of required runtime measures data, takes precedence over location(s) in datapath list\n",
            "measurespath = os.path.expanduser(\"~/.casa/measures\")\n",
            "\n",
            "# automatically populate the datapath[0] location if not already done\n",
            "populate_data = True\n",
            "\n",
            "# automatically update measures data if not current (measurespath must be user-writable)\n",
            "measures_update = True\n",
            "\n",
            "# log file path/name\n",
            "logfile='casalog_%s.log' % time.strftime(\"%Y-%m-%d\", time.localtime())\n",
            "\n",
            "# do not create a log file when True, If True, then any logfile value is ignored and there is no log file\n",
            "nologfile = False\n",
            "\n",
            "# print log output to terminal when True (in addition to any logfile and CASA logger)\n",
            "log2term = False\n",
            "\n",
            "# do not start the CASA logger when True\n",
            "nologger = False\n",
            "\n",
            "# avoid starting GUI tools when True. If True then the CASA logger is not started even if nologger is False\n",
            "nogui = False\n",
            "\n",
            "# the IPython prompt color scheme. Must be one of \"Neutral\", \"NoColor\", \"Linux\" or \"LightBG\", default \"Neutral\"\n",
            "colors = \"Neutral\"\n",
            "\n",
            "# startup without a graphical backend if True\n",
            "agg = False\n",
            "\n",
            "# attempt to load the pipeline modules and set other options appropriate for pipeline use if True\n",
            "pipeline = False\n",
            "\n",
            "# create and use an IPython log in the current directory if True\n",
            "iplog = False\n",
            "\n",
            "# allow anonymous usage reporting\n",
            "telemetry_enabled = True\n",
            "\n",
            "# location to place telemetry data prior to reporting\n",
            "telemetry_log_directory = os.path.expanduser(\"~/.casa/telemetry\")\n",
            "\n",
            "# maximum size of telemetry recording\n",
            "telemetry_log_limit = 20480\n",
            "\n",
            "# telemetry recording size that triggers a report\n",
            "telemetry_log_size_interval = 60\n",
            "\n",
            "# telemetry recording report frequency\n",
            "telemetry_submit_interval = 604800\n",
            "\n",
            "# allow anonymous crash reporting\n",
            "crashreporter_enabled = True\n",
            "\n",
            "# include the user's local site-packages in the python path if True. May conflict with CASA modules\n",
            "user_site = False\n",
            "\n"
          ]
        }
      ]
    },
    {
      "cell_type": "markdown",
      "metadata": {
        "id": "4PuV_Bob_o4V"
      },
      "source": [
        "This config.py file is executed when casatools is initially imported (or monolithic CASA is started).  Changes to the file require restarting the python environment and re-importing casatools."
      ]
    },
    {
      "cell_type": "markdown",
      "metadata": {
        "id": "xxv4utFAnU37"
      },
      "source": [
        "## Data Directory Contents"
      ]
    },
    {
      "cell_type": "markdown",
      "metadata": {
        "id": "sppg8uqtPNzP"
      },
      "source": [
        "### Casacore Measures\n",
        "\n",
        "The casacore Measures tables are needed to perform accurate conversions of reference frames.  Casacore infrastructure includes classes to handle physical quantities with a reference frame, so-called *Measures*. Each type of Measure has its own distinct class in casacore which is derived from the Measure base class. One of the main functionalilties provided by casacore w.r.t. Measures, is the conversion of Measures from one reference frame to another using the MeasConvert classes.\n",
        "\n",
        "Many of the spectral, spatial, and time reference frames are time-dependent and require the knowledge of the outcome of ongoing monitoring measurements of properties of the Earth and astronomical objects by certain service observatories. This data is tabulated in a number of tables (*Measures Tables*) which are stored in the casadata repository in the subdirectory ```geodetic```. A snapshot of this repository is included in each tarball distribution of CASA and in the casadata module for CASA6+.\n",
        "\n",
        "Measures tables are updated daily based on the refinement of the geodetic information from the relevant services like the International Earth Rotation and Reference Systems Service (IERS). Strictly speaking, the Measures tables are part of the casacore infrastructure which is developed by NRAO, ESO, NAOJ, CSIRO, and ASTRON. In order to keep the repository consistent between the partners, the Measures tables are initially created at a single institution (ASTRON) and then copied into the NRAO casadata repository from which all CASA users can retrieve them. As of March 2020, the update of the NRAO CASA copy of the Measures tables in ```geodetic``` and the planetary ephemerides in directory ```ephemerides``` takes place every day between 18 h UTC and 19 h UTC via two redundant servers at ESO (Garching).\n",
        "\n",
        "**CASA releases need to be updated with recent Measures tables** (see [above](#Updating-the-Data-Directory)).  For observatory use, the update period should not be longer than weekly in order to have the EOPs up-to-date for upcoming observations. The shortest reasonable update interval is daily. For offline data analysis use, the update period should not be longer than monthly. Weekly update is recommended. \n",
        "\n",
        "Legacy installations processing old data do not have to be updated because the relevant contents of the Measures Tables is not changing anymore for the more distant past.\n",
        "\n",
        "The following list describes the individual Tables in subdirectory ```geodetic```:\n",
        "\n",
        "* **IERSeop2000:**    The IERS EOP2000C04_05 Earth Orientation Parameters \n",
        "using the precession/nutation model \\\"IAU2000\\\" (files eopc04_IAU2000.xx)\n",
        "* **IERSeop97**:    The IERS EOPC04_05 Earth Orientation Parameters using the precession/nutation model \\\"IAU 1980\\\" (files eopc04.xx)\n",
        "* **IERSpredict:** IERS Earth Orientation Data predicted from NEOS (from file <ftp://ftp.iers.org/products/eop/rapid/daily/finals.daily>)\n",
        "* **IGRF:**    International Geomagnetic Reference Field Schmidt [semi-normalised spherical harmonic coefficients](https://www.ngdc.noaa.gov/IAGA/vmod/coeffs/). (Note that this still uses IGRF12. An update to IGRF13 is underway.)\n",
        "* IMF (not a Measures Table proper, access not integreated in Measures framework):    Historical interplanetary magnetic field data until MJD 52618 (December 2002).\n",
        "* KpApF107 (not a Measures Table proper, access not integreated in Measures framework): Historical geomagnetic and solar activity indices until MJD 54921 (April 2009)\n",
        "* **Observatories:** Table of the official locations of radio observatories. Maintained by the CASA consortium.\n",
        "* SCHED_locations (not a Measures Table proper, access not integreated in Measures framework):    VLBI station locations\n",
        "* **TAI_UTC:** TAI_UTC difference (i.e. leap second information) obtained from USNO\n",
        "\n",
        "\n",
        "Measures Tables in the directory ```ephemerides```:\n",
        "\n",
        "* **DE200**:    Historical JPL Planetary ephemeris DE200 used for Astronomical Almanach from 1984 to 2003 (from <ftp://ssd.jpl.nasa.gov/pub/eph/planets/ascii/de200>)\n",
        "* **DE405**:    JPL Planetary ephemeris DE405; includes nutations and librations; referred to the ICRS (from <ftp://ssd.jpl.nasa.gov/pub/eph/planets/ascii/de405>)\n",
        "\n"
      ]
    },
    {
      "cell_type": "markdown",
      "metadata": {
        "id": "p8I27Zj8o5M3"
      },
      "source": [
        "We can open and inspect the contents of measures geodetic data directory using the casaconfig ```table_open``` function.  This returns an [**xarray dataset**](http://xarray.pydata.org/en/stable/user-guide/terminology.html) object (abbreviated as xds)."
      ]
    },
    {
      "cell_type": "code",
      "metadata": {
        "colab": {
          "base_uri": "https://localhost:8080/"
        },
        "id": "HEFdmKZYpmpj",
        "outputId": "8dd0a66b-f64b-4a1f-ab73-3e47303fb1e6"
      },
      "source": [
        "from casaconfig import table_open, get_data_dir\n",
        "xds = table_open(get_data_dir()+'/geodetic/IERSpredict')\n",
        "\n",
        "print(xds)"
      ],
      "execution_count": 16,
      "outputs": [
        {
          "output_type": "stream",
          "name": "stdout",
          "text": [
            "<xarray.Dataset>\n",
            "Dimensions:  (d0: 929)\n",
            "Dimensions without coordinates: d0\n",
            "Data variables: (12/13)\n",
            "    MJD      (d0) float64 5.88e+04 5.88e+04 5.88e+04 ... 5.973e+04 5.973e+04\n",
            "    X        (d0) float64 0.1556 0.1544 0.1532 0.1521 ... 0.136 0.1374 0.1398\n",
            "    DX       (d0) float64 1.9e-05 3e-05 3e-05 ... 0.007849 0.007854 0.007939\n",
            "    Y        (d0) float64 0.275 0.275 0.275 0.275 ... 0.4688 0.4691 0.4683\n",
            "    DY       (d0) float64 2.1e-05 2.4e-05 2.6e-05 ... 0.01043 0.01033 0.01031\n",
            "    DUT1     (d0) float64 -0.1629 -0.1634 -0.1639 ... -0.1148 -0.1138 -0.1129\n",
            "    ...       ...\n",
            "    LOD      (d0) float64 0.0005854 0.0004804 0.0003702 ... 0.0 0.0 0.0\n",
            "    DLOD     (d0) float64 2.7e-06 4.3e-06 3e-06 3.3e-06 ... 0.0 0.0 0.0 0.0\n",
            "    DPSI     (d0) float64 -112.4 -112.5 -112.5 -112.3 -112.1 ... 0.0 0.0 0.0 0.0\n",
            "    DDPSI    (d0) float64 0.174 0.086 0.086 0.086 0.081 ... 0.0 0.0 0.0 0.0 0.0\n",
            "    DEPS     (d0) float64 -7.223 -7.307 -7.465 -7.583 -7.617 ... 0.0 0.0 0.0 0.0\n",
            "    DDEPS    (d0) float64 0.183 0.26 0.26 0.26 0.272 ... 0.0 0.0 0.0 0.0 0.0\n",
            "Attributes: (12/20)\n",
            "    vs_create:    2020/02/10/03:00\n",
            "    vs_date:      2022/02/27/15:00\n",
            "    vs_version:   0623.0747\n",
            "    vs_type:      IERS Earth Orientation Data predicted from NEOS\n",
            "    tab_version:  0002.0000\n",
            "    mjd0:         58798.0\n",
            "    ...           ...\n",
            "    lod_unit:     s\n",
            "    dlod_unit:    s\n",
            "    dpsi_unit:    arcsec\n",
            "    ddpsi_unit:   arcsec\n",
            "    deps_unit:    arcsec\n",
            "    ddeps_unit:   arcsec\n"
          ]
        }
      ]
    },
    {
      "cell_type": "code",
      "metadata": {
        "colab": {
          "base_uri": "https://localhost:8080/",
          "height": 296
        },
        "id": "DTc-iJCYq4Tf",
        "outputId": "7a7bf7fe-ecc3-4603-8d98-3840f9f37a6b"
      },
      "source": [
        "xds.plot.scatter('MJD','DX')"
      ],
      "execution_count": 17,
      "outputs": [
        {
          "output_type": "execute_result",
          "data": {
            "text/plain": [
              "<matplotlib.collections.PathCollection at 0x7fb7a2679d10>"
            ]
          },
          "metadata": {},
          "execution_count": 17
        },
        {
          "output_type": "display_data",
          "data": {
            "image/png": "[encoded data removed]",
            "text/plain": [
              "<Figure size 432x288 with 1 Axes>"
            ]
          },
          "metadata": {
            "needs_background": "light"
          }
        }
      ]
    },
    {
      "cell_type": "code",
      "metadata": {
        "colab": {
          "base_uri": "https://localhost:8080/",
          "height": 296
        },
        "id": "rD4P5RUPqsJy",
        "outputId": "76b13116-0e1a-4501-8990-33bcee1a3b0e"
      },
      "source": [
        "xds.plot.scatter('MJD','DUT1')"
      ],
      "execution_count": 18,
      "outputs": [
        {
          "output_type": "execute_result",
          "data": {
            "text/plain": [
              "<matplotlib.collections.PathCollection at 0x7fb7a2bef1d0>"
            ]
          },
          "metadata": {},
          "execution_count": 18
        },
        {
          "output_type": "display_data",
          "data": {
            "image/png": "[encoded data removed]",
            "text/plain": [
              "<Figure size 432x288 with 1 Axes>"
            ]
          },
          "metadata": {
            "needs_background": "light"
          }
        }
      ]
    },
    {
      "cell_type": "markdown",
      "metadata": {
        "id": "cHn7dpOqrKPR"
      },
      "source": [
        "Observe how the ```IERSpredict``` table updates over time"
      ]
    },
    {
      "cell_type": "code",
      "metadata": {
        "colab": {
          "base_uri": "https://localhost:8080/",
          "height": 366
        },
        "id": "2nCB03aLrTCU",
        "outputId": "e725b9fd-f3f0-4bf0-b9fe-f5def127b974"
      },
      "source": [
        "from casaconfig import measures_update, measures_available\n",
        "versions = measures_available()\n",
        "measures_update('./older_measures', version=versions[2], force=True)\n",
        "measures_update('./newer_measures', version=versions[-1], force=True)\n",
        "old_xds = table_open('./older_measures/geodetic/IERSpredict')\n",
        "new_xds = table_open('./newer_measures/geodetic/IERSpredict')\n",
        "new_xds.DX[200:].plot()\n",
        "old_xds.DX[200:].plot()"
      ],
      "execution_count": 19,
      "outputs": [
        {
          "output_type": "stream",
          "name": "stdout",
          "text": [
            "casaconfig connecting to ftp.astron.nl ...\n",
            "casaconfig downloading WSRT_Measures_20211121-160001.ztar from ASTRON server to ./older_measures ...\n",
            "casaconfig connecting to ftp.astron.nl ...\n",
            "casaconfig downloading WSRT_Measures_20220308-160001.ztar from ASTRON server to ./newer_measures ...\n"
          ]
        },
        {
          "output_type": "execute_result",
          "data": {
            "text/plain": [
              "[<matplotlib.lines.Line2D at 0x7fb7a2147590>]"
            ]
          },
          "metadata": {},
          "execution_count": 19
        },
        {
          "output_type": "display_data",
          "data": {
            "image/png": "[encoded data removed]",
            "text/plain": [
              "<Figure size 432x288 with 1 Axes>"
            ]
          },
          "metadata": {
            "needs_background": "light"
          }
        }
      ]
    },
    {
      "cell_type": "markdown",
      "metadata": {
        "id": "-b51ThM4PNzT"
      },
      "source": [
        "### Ephemeris Data \n",
        "\n",
        "The ephemeris tables hold a selection of the solar system objects from JPL-Horizons database.  The data tables are generated from the JPL Horizons system\\'s on-line solar system data and ephemeris computation service ([https://ssd.jpl.nasa.gov/?horizons )](https://ssd.jpl.nasa.gov/?horizons \"JPL Horizons\"). These are primarily used to determine flux models for the solar system objects used in the **setjy** task.  These tables are stored as CASA tables in the casadata repository under ```ephemerides/JPL-Horizons```. The current ephemeris tables cover ephemerides until December 31, 2030 for those objects officially supported in **setjy**. \n",
        "\n",
        "Available objects, which include major planets, satellites, and asteroids, are: Mercury, **Venus**, **Mars**, **Jupiter**, Saturn, **Uranus**, **Neptune**, Pluto, **Io**, **Europa**, **Ganymede**, **Callisto**, **Titan**, **Ceres**, **Vesta**, **Pallas**, **Juno**, **Lutetia**, Sun and Moon (the objects in **bold** are those supported in \\'Butler-JPL-Horizons 2012\\' standard in **setjy**.). \n",
        "\n",
        "The format of the table name of these tables is *objectname*\\_*startMJD*\\_*endMJD*\\_J2000.tab These tables required by **setjy** task are included in the data directory in the CASA distribution. The available tables can be listed by the following commands:\n",
        "\n",
        "\n",
        "```\n",
        "#In CASA6\n",
        "\n",
        "CASA <1>: import glob\n",
        "\n",
        "CASA <2>: jpldatapath=os.getenv('CASAPATH').split(' ')[0]+'/data/ephemerides/JPL-Horizons/*J2000.tab'\n",
        "\n",
        "CASA <3>: glob.glob(jpldatapath)\n",
        "```\n",
        "\n",
        "The following data are retrieved from the JPL-Horizons system (the nubmer in the parentheses indicates the column number listed in the JPL-Horizons system). One should refer https://ssd.jpl.nasa.gov/?horizons_doc for the detailed descreption of each of these quantities.\n",
        "\n",
        "Quantities | column no. | Unit/format | Descrition | column label\n",
        "--- | --- | --- | --- | ---\n",
        "Date | n.a. | YYYY-MM-DD | HH:MM | Date\\_\\_(UT)\\_\\_HR:MN\n",
        "Astrometric RA & DEC | 1 | degrees | Astrometric RA and Dec with respect to the observer\\'s location (GEOCETRIC) | R.A.\\_(ICRF)\\_DEC\n",
        "Observer sub-long& sub-lat | 14 | degrees | Apparent planetodetic (\\\"geodetic\\\") longitude and latitude of the center of the target seen by the OBSERVER at print-time  | ob-lon, ob-lat\n",
        "Solar sub-long & sub-lat | 15 | degrees | Apparent planetodetic (\\\"geodetic\\\") longitude and latitude of the Sun seen by the OBSERVER at print-time | Sl-lon, Sl-lat\n",
        "North Pole Pos. ang. & dist. | 17 | degrees and arcseconds | Target\\'s North Pole position angle and angular distance from the \\\"sub-observer\\\" point | NP.ang, NP.ds\n",
        "Helio range & range rate | 19 | AU, km/s | Heliocentric range (r) and range-rate | (rdot) | r, rdot\n",
        "Observer range & range rate | 20 | AU, km/s | Range (delta) and range-rate (deldot) of the target center with respect to the observer | delta, dedot\n",
        "S-T-O angle | 24 | degrees | Sun-Target-Observer angle | S-T-O\n",
        "\n",
        "The script ```request.py``` (located  in casatasks.private for CASA6) can be used to retrieve the ephemeris data from the JPL-Horizons system via e-mail (See also [Manipulate Ephemeris Objects page](ephemeris_data.ipynb#Manipulate-Ephemeris-Objects \"Manipulate Ephemeris Objects\")). Further, the saved email text file is converted to a CASA table format using JPLephem_reader2.\n",
        "\n",
        "\n",
        "```\n",
        "#In CASA6\n",
        "\n",
        "CASA <5>: from casatasks.private import JPLephem_reader2 as jplreader\n",
        "\n",
        "CASA <6>: outdict = jplreader.readJPLephem('titan-jpl-horizons-ephem.eml')\n",
        "opened the file=titan-jpl-horizons-ephem.eml\n",
        "\n",
        "CASA <7>: jplreader.ephem_dict_to_table(outdict,'Titan_test_ephem.tab')\n",
        "Got nrows = 3653 from MJD\n",
        "```\n",
        "\n",
        "The converted table contains following columns.\n",
        "\n",
        "Column name | unit/format | description\n",
        "--- | --- | ---\n",
        "MJD | day | modified Julian date\n",
        "RA | degree | atrometric right acension in ICRF/J2000 frame\n",
        "DEC | degree | astrometric declination in ICRF/J2000 frame\n",
        "Rho | AU | Geocentric distance\n",
        "RadVal | AU/d | Geocentric distance rate\n",
        "NP_ang | degree | North pole position angle\n",
        "NP_dist | degree | North pole angular distance\n",
        "DiskLong | degree | Sub-observer longitude\n",
        "DiskLat | degree | Sub-observer latitude\n",
        "Sl_lon | degree | Sub-Solar longitude\n",
        "Sl_lat | degree | Sub-Solar latitude\n",
        "r | AU | heliocentric distance\n",
        "rdot | km/s | heliocentric distance rate\n",
        "phang | degree | phase angle\n",
        "\n",
        "\n"
      ]
    },
    {
      "cell_type": "markdown",
      "metadata": {
        "id": "dbT5e3_9PNzV"
      },
      "source": [
        "### Array Configuration\n",
        "\n",
        "Array configuration files for various telescopes are distributed with each CASA release. These configuration files can be used to define the telescope for simulator tools and tasks. Currently, configuration files for the following telescopes are available in CASA:\n",
        "\n",
        "-   ALMA / 12m Array\n",
        "-   ALMA / 7m ACA\n",
        "-   VLA\n",
        "-   VLBA\n",
        "-   Next-Generation VLA (reference design)\n",
        "-   ATCA\n",
        "-   MeerKat\n",
        "-   PdBI (pre-NOEMA)\n",
        "-   WSRT\n",
        "-   SMA\n",
        "-   Carma\n",
        "\n",
        "The full list of antenna configurations can be found in the [CASA Guides on Simulations](https://casaguides.nrao.edu/index.php?title=Antenna_Configurations_Models_in_CASA_Cycle6).\n",
        "\n",
        "One can also locate the directory with the configurations in the CASA distribution and then list the configuration files, using the following commands in CASA:\n",
        "\n",
        "```\n",
        "CASA <1>: print os.getenv('CASAPATH').split(' ')[0] + '/data/alma/simmos/'\n",
        "/home/casa/packages/RHEL7/release/casa-release-5.4.0-68/data/alma/simmos/\n",
        "\n",
        "CASA <2>: ls /home/casa/packages/RHEL6/release/casa-release-5.4.0-68/data/alma/simmos/\n",
        "```\n",
        "\n",
        "If a configuration file is not distributed with CASA but retrieved elsewhere, then the configuration file can be called by explicitly writing the full path to the location of the configuration file in the antennalist paramter of the simulator tasks.\n",
        "\n",
        "<div class=\"alert alert-info\">\n",
        "**NOTE**: the most recent ALMA configuration files may not always be available in the most recent CASA version. ALMA configuration files for all cycles are available for download [here](https://almascience.nrao.edu/tools/casa-simulator). For the Next-Generation VLA reference design, the latest information can be found [here](https://ngvla.nrao.edu/page/tools).\n",
        "</div>\n"
      ]
    }
  ]
}